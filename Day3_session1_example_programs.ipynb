{
  "nbformat": 4,
  "nbformat_minor": 0,
  "metadata": {
    "colab": {
      "name": "Day3-session1-example programs",
      "provenance": [],
      "collapsed_sections": [],
      "authorship_tag": "ABX9TyMENgyPch/MARB/XyRE+nH4",
      "include_colab_link": true
    },
    "kernelspec": {
      "name": "python3",
      "display_name": "Python 3"
    }
  },
  "cells": [
    {
      "cell_type": "markdown",
      "metadata": {
        "id": "view-in-github",
        "colab_type": "text"
      },
      "source": [
        "<a href=\"https://colab.research.google.com/github/Churashma/python-workshop/blob/master/Day3_session1_example_programs.ipynb\" target=\"_parent\"><img src=\"https://colab.research.google.com/assets/colab-badge.svg\" alt=\"Open In Colab\"/></a>"
      ]
    },
    {
      "cell_type": "markdown",
      "metadata": {
        "id": "zRoBOho3nW3C",
        "colab_type": "text"
      },
      "source": [
        " # Program for prime number -bad code"
      ]
    },
    {
      "cell_type": "code",
      "metadata": {
        "id": "2z-zvS9JnfjB",
        "colab_type": "code",
        "colab": {
          "base_uri": "https://localhost:8080/",
          "height": 31
        },
        "outputId": "d99ba1a0-3e5b-4b53-fc9f-e0ff972007f1"
      },
      "source": [
        " \n",
        "i=25\n",
        "for x in range(2, i//2+1):\n",
        "      if i%x==0:\n",
        "         print(\"The number {} is not prime\".format(i))\n",
        "         break\n",
        "if x ==i//2:\n",
        "   print (\"{} is a prime number\".format(i))"
      ],
      "execution_count": null,
      "outputs": [
        {
          "output_type": "stream",
          "text": [
            "The number 25 is not prime\n"
          ],
          "name": "stdout"
        }
      ]
    },
    {
      "cell_type": "markdown",
      "metadata": {
        "id": "aLlVZ4iFnq0q",
        "colab_type": "text"
      },
      "source": [
        " # Good code using for... else"
      ]
    },
    {
      "cell_type": "code",
      "metadata": {
        "id": "P-cAb4mnn83p",
        "colab_type": "code",
        "colab": {
          "base_uri": "https://localhost:8080/",
          "height": 31
        },
        "outputId": "94127f02-2245-45b4-a711-163042ff978e"
      },
      "source": [
        " \n",
        "i=25\n",
        "for x in range(2, i//2+1):\n",
        "      if i%x==0:\n",
        "         print(\"The number {} is not prime\".format(i))\n",
        "         break\n",
        "else:\n",
        "    print (\"{} is a prime number\".format(i))"
      ],
      "execution_count": null,
      "outputs": [
        {
          "output_type": "stream",
          "text": [
            "The number 25 is not prime\n"
          ],
          "name": "stdout"
        }
      ]
    },
    {
      "cell_type": "markdown",
      "metadata": {
        "id": "BgLmaYIpoDNX",
        "colab_type": "text"
      },
      "source": [
        "#  Using Unpacking to Write Concise Code"
      ]
    },
    {
      "cell_type": "code",
      "metadata": {
        "id": "C885a9R-oHtQ",
        "colab_type": "code",
        "colab": {
          "base_uri": "https://localhost:8080/",
          "height": 46
        },
        "outputId": "4df9cac5-d0c1-451e-bf7e-1fa21616a953"
      },
      "source": [
        " \n",
        "a, b = 2, 'my-string'\n",
        "print(a)\n",
        "print(b)"
      ],
      "execution_count": null,
      "outputs": [
        {
          "output_type": "stream",
          "text": [
            "2\n",
            "my-string\n"
          ],
          "name": "stdout"
        }
      ]
    },
    {
      "cell_type": "markdown",
      "metadata": {
        "id": "qmOiaES1o0Pj",
        "colab_type": "text"
      },
      "source": [
        "#  Bad unpacking"
      ]
    },
    {
      "cell_type": "code",
      "metadata": {
        "id": "CLgJZfIKp2wc",
        "colab_type": "code",
        "colab": {
          "base_uri": "https://localhost:8080/",
          "height": 31
        },
        "outputId": "0af2aa0d-24ef-46ab-9349-03fd769d75fe"
      },
      "source": [
        " \n",
        "x = (1, 2, 4, 8, 16)\n",
        "a = x[0]\n",
        "b = x[1]\n",
        "c = x[2]\n",
        "d = x[3]\n",
        "e = x[4]\n",
        "print(a, b, c, d, e)"
      ],
      "execution_count": null,
      "outputs": [
        {
          "output_type": "stream",
          "text": [
            "1 2 4 8 16\n"
          ],
          "name": "stdout"
        }
      ]
    },
    {
      "cell_type": "markdown",
      "metadata": {
        "id": "KUE9X9Lsp_VW",
        "colab_type": "text"
      },
      "source": [
        " # Excellent unpacking"
      ]
    },
    {
      "cell_type": "code",
      "metadata": {
        "id": "IevIv7E3qEpZ",
        "colab_type": "code",
        "colab": {
          "base_uri": "https://localhost:8080/",
          "height": 31
        },
        "outputId": "9c18fb96-aeba-459e-ffdc-fc708f141fd2"
      },
      "source": [
        " \n",
        "a,b,c,d,e=x\n",
        "print(a, b, c, d, e)"
      ],
      "execution_count": null,
      "outputs": [
        {
          "output_type": "stream",
          "text": [
            "1 2 4 8 16\n"
          ],
          "name": "stdout"
        }
      ]
    },
    {
      "cell_type": "markdown",
      "metadata": {
        "id": "9wHERSx9qOKo",
        "colab_type": "text"
      },
      "source": [
        " # unpacking some elements"
      ]
    },
    {
      "cell_type": "code",
      "metadata": {
        "id": "5Xiq6zt9qTno",
        "colab_type": "code",
        "colab": {
          "base_uri": "https://localhost:8080/",
          "height": 60
        },
        "outputId": "11c4027b-74bd-4af9-fc1e-1a9635d85c66"
      },
      "source": [
        " \n",
        "a, *y, e = x\n",
        "print(a)\n",
        "print(y)\n",
        "print(e)"
      ],
      "execution_count": null,
      "outputs": [
        {
          "output_type": "stream",
          "text": [
            "1\n",
            "[2, 4, 8]\n",
            "16\n"
          ],
          "name": "stdout"
        }
      ]
    },
    {
      "cell_type": "markdown",
      "metadata": {
        "id": "KfZ0l0Xsrdvt",
        "colab_type": "text"
      },
      "source": [
        "# Using Chaining to Write Concise Code"
      ]
    },
    {
      "cell_type": "code",
      "metadata": {
        "id": "YodpOYNsrgOc",
        "colab_type": "code",
        "colab": {
          "base_uri": "https://localhost:8080/",
          "height": 31
        },
        "outputId": "25f27036-7794-4b03-ed65-4fca3afdcd14"
      },
      "source": [
        " \n",
        "x = 4\n",
        "print(x >= 2 and x <= 8)"
      ],
      "execution_count": null,
      "outputs": [
        {
          "output_type": "stream",
          "text": [
            "True\n"
          ],
          "name": "stdout"
        }
      ]
    },
    {
      "cell_type": "markdown",
      "metadata": {
        "id": "KFEuyGuFr_y8",
        "colab_type": "text"
      },
      "source": [
        " # Instead, you can write this in a more compact form, like mathematicians do:"
      ]
    },
    {
      "cell_type": "code",
      "metadata": {
        "id": "KbsVL6r_sLhu",
        "colab_type": "code",
        "colab": {
          "base_uri": "https://localhost:8080/",
          "height": 46
        },
        "outputId": "1d22c789-4714-4b1d-cef0-a7837de5711c"
      },
      "source": [
        " \n",
        "print(2 <= x <= 8)\n",
        "print(2 <= x <= 3)"
      ],
      "execution_count": null,
      "outputs": [
        {
          "output_type": "stream",
          "text": [
            "True\n",
            "False\n"
          ],
          "name": "stdout"
        }
      ]
    },
    {
      "cell_type": "markdown",
      "metadata": {
        "id": "s56sAfSvsQDf",
        "colab_type": "text"
      },
      "source": [
        " # chained assignments"
      ]
    },
    {
      "cell_type": "code",
      "metadata": {
        "id": "sMZFXqxwsVYn",
        "colab_type": "code",
        "colab": {
          "base_uri": "https://localhost:8080/",
          "height": 31
        },
        "outputId": "61d7d394-1db3-4c6b-f41f-3e6ff0c19a66"
      },
      "source": [
        " x = y = z = 2\n",
        "x, y, z # when we use , it becomes tuple"
      ],
      "execution_count": null,
      "outputs": [
        {
          "output_type": "execute_result",
          "data": {
            "text/plain": [
              "(2, 2, 2)"
            ]
          },
          "metadata": {
            "tags": []
          },
          "execution_count": 10
        }
      ]
    },
    {
      "cell_type": "markdown",
      "metadata": {
        "id": "3rVHsjqzspnC",
        "colab_type": "text"
      },
      "source": [
        "# Checking against None"
      ]
    },
    {
      "cell_type": "code",
      "metadata": {
        "id": "_N6mDhVdsuNx",
        "colab_type": "code",
        "colab": {
          "base_uri": "https://localhost:8080/",
          "height": 75
        },
        "outputId": "4ff7a3b3-d788-455c-eeb3-2f219016ce11"
      },
      "source": [
        " \n",
        "# normal way\n",
        "x, y = 2, None\n",
        "print(x == None)\n",
        "print(y == None)\n",
        "print(x != None)\n",
        "print(y != None)"
      ],
      "execution_count": null,
      "outputs": [
        {
          "output_type": "stream",
          "text": [
            "False\n",
            "True\n",
            "True\n",
            "False\n"
          ],
          "name": "stdout"
        }
      ]
    },
    {
      "cell_type": "markdown",
      "metadata": {
        "id": "yjsR4jzCsytE",
        "colab_type": "text"
      },
      "source": [
        " # Iterating over Sequences"
      ]
    },
    {
      "cell_type": "code",
      "metadata": {
        "id": "9SlfYhmgs561",
        "colab_type": "code",
        "colab": {
          "base_uri": "https://localhost:8080/",
          "height": 89
        },
        "outputId": "a5633126-99ba-4800-da17-2388e8994e36"
      },
      "source": [
        " \n",
        "x = [1, 2, 4, 8, 16]\n",
        "for i in range(len(x)):\n",
        "  print(x[i])"
      ],
      "execution_count": null,
      "outputs": [
        {
          "output_type": "stream",
          "text": [
            "1\n",
            "2\n",
            "4\n",
            "8\n",
            "16\n"
          ],
          "name": "stdout"
        }
      ]
    },
    {
      "cell_type": "markdown",
      "metadata": {
        "id": "OKjh5BLTtAbw",
        "colab_type": "text"
      },
      "source": [
        "# But instead we can do like this in elegant way"
      ]
    },
    {
      "cell_type": "code",
      "metadata": {
        "id": "eQzgUxDZtFrv",
        "colab_type": "code",
        "colab": {
          "base_uri": "https://localhost:8080/",
          "height": 89
        },
        "outputId": "7c4e73e9-2e5f-4946-c4c1-7cc7af505b86"
      },
      "source": [
        " \n",
        "for item in x:\n",
        "  print(item)"
      ],
      "execution_count": null,
      "outputs": [
        {
          "output_type": "stream",
          "text": [
            "1\n",
            "2\n",
            "4\n",
            "8\n",
            "16\n"
          ],
          "name": "stdout"
        }
      ]
    },
    {
      "cell_type": "markdown",
      "metadata": {
        "id": "Fc5Hy0yptK90",
        "colab_type": "text"
      },
      "source": [
        " # to iterate in the reversed order"
      ]
    },
    {
      "cell_type": "code",
      "metadata": {
        "id": "-CmAfVPytPlD",
        "colab_type": "code",
        "colab": {
          "base_uri": "https://localhost:8080/",
          "height": 89
        },
        "outputId": "c9bc8701-afe6-4d23-cd02-cb8b40c3e5eb"
      },
      "source": [
        " \n",
        "for i in range(len(x)-1, -1, -1):\n",
        "  print(x[i])"
      ],
      "execution_count": null,
      "outputs": [
        {
          "output_type": "stream",
          "text": [
            "16\n",
            "8\n",
            "4\n",
            "2\n",
            "1\n"
          ],
          "name": "stdout"
        }
      ]
    },
    {
      "cell_type": "markdown",
      "metadata": {
        "id": "A8nak26ItcKK",
        "colab_type": "text"
      },
      "source": [
        " # But in elegant way!"
      ]
    },
    {
      "cell_type": "code",
      "metadata": {
        "id": "-gcaTJrqtgzz",
        "colab_type": "code",
        "colab": {
          "base_uri": "https://localhost:8080/",
          "height": 89
        },
        "outputId": "786ebeef-d7ee-4a5d-835a-a379ffee71d9"
      },
      "source": [
        " \n",
        "for item in x[::-1]:\n",
        "  print(item)"
      ],
      "execution_count": null,
      "outputs": [
        {
          "output_type": "stream",
          "text": [
            "16\n",
            "8\n",
            "4\n",
            "2\n",
            "1\n"
          ],
          "name": "stdout"
        }
      ]
    },
    {
      "cell_type": "markdown",
      "metadata": {
        "id": "P5fH4ZintppL",
        "colab_type": "text"
      },
      "source": [
        " # The Pythonic way is to use reversed to get an iterator that yields the items of a\n",
        "sequence in the reversed order:"
      ]
    },
    {
      "cell_type": "code",
      "metadata": {
        "id": "Hp929O07uBcu",
        "colab_type": "code",
        "colab": {
          "base_uri": "https://localhost:8080/",
          "height": 89
        },
        "outputId": "dec2f8f9-056e-4a90-ae4f-850984e5ac49"
      },
      "source": [
        " \n",
        "for item in reversed(x):\n",
        "  print(item)"
      ],
      "execution_count": null,
      "outputs": [
        {
          "output_type": "stream",
          "text": [
            "16\n",
            "8\n",
            "4\n",
            "2\n",
            "1\n"
          ],
          "name": "stdout"
        }
      ]
    },
    {
      "cell_type": "markdown",
      "metadata": {
        "id": "leCQ-PvouHPY",
        "colab_type": "text"
      },
      "source": [
        " # Sometimes you need both the items from a sequence and the corresponding indices:"
      ]
    },
    {
      "cell_type": "code",
      "metadata": {
        "id": "6HtXEFnJuMv0",
        "colab_type": "code",
        "colab": {
          "base_uri": "https://localhost:8080/",
          "height": 89
        },
        "outputId": "d6d3dea0-8c9f-4007-e29f-8dc57aefd6cc"
      },
      "source": [
        " \n",
        "for i in range(len(x)):\n",
        "  print(i, x[i])"
      ],
      "execution_count": null,
      "outputs": [
        {
          "output_type": "stream",
          "text": [
            "0 1\n",
            "1 2\n",
            "2 4\n",
            "3 8\n",
            "4 16\n"
          ],
          "name": "stdout"
        }
      ]
    },
    {
      "cell_type": "markdown",
      "metadata": {
        "id": "25oTwKqI1VSQ",
        "colab_type": "text"
      },
      "source": [
        "# It’s better to use enumerate to get another iterator that yields the tuples with the indices\n",
        "and items:"
      ]
    },
    {
      "cell_type": "code",
      "metadata": {
        "id": "Qg8Lja3u1mlG",
        "colab_type": "code",
        "colab": {
          "base_uri": "https://localhost:8080/",
          "height": 89
        },
        "outputId": "5e2386a2-8e13-41a2-a45c-0e93ef0611a8"
      },
      "source": [
        " \n",
        "for i, item in enumerate(x):\n",
        "  print(i, item)"
      ],
      "execution_count": null,
      "outputs": [
        {
          "output_type": "stream",
          "text": [
            "0 1\n",
            "1 2\n",
            "2 4\n",
            "3 8\n",
            "4 16\n"
          ],
          "name": "stdout"
        }
      ]
    },
    {
      "cell_type": "markdown",
      "metadata": {
        "id": "p3eE4Bwp1vTS",
        "colab_type": "text"
      },
      "source": [
        " # what if you want to iterate over two or more sequences? Of course, you can use the\n",
        "range again:"
      ]
    },
    {
      "cell_type": "code",
      "metadata": {
        "id": "fpAJvvf715cW",
        "colab_type": "code",
        "colab": {
          "base_uri": "https://localhost:8080/",
          "height": 89
        },
        "outputId": "75f2bee2-67f8-4837-801f-e39b806c6955"
      },
      "source": [
        " \n",
        "y = 'abcde'\n",
        "for i in range(len(x)):\n",
        "  print(x[i], y[i])"
      ],
      "execution_count": null,
      "outputs": [
        {
          "output_type": "stream",
          "text": [
            "1 a\n",
            "2 b\n",
            "4 c\n",
            "8 d\n",
            "16 e\n"
          ],
          "name": "stdout"
        }
      ]
    },
    {
      "cell_type": "markdown",
      "metadata": {
        "id": "uTHWMscW1_R4",
        "colab_type": "text"
      },
      "source": [
        "# You can combine it with unpacking:"
      ]
    },
    {
      "cell_type": "code",
      "metadata": {
        "id": "dcA_UoK32GR5",
        "colab_type": "code",
        "colab": {
          "base_uri": "https://localhost:8080/",
          "height": 89
        },
        "outputId": "c16fc01d-8b30-49ae-afb7-1abf8c3b2cb2"
      },
      "source": [
        " \n",
        "for x_item, y_item in zip(x, y):\n",
        "  print(x_item, y_item)"
      ],
      "execution_count": null,
      "outputs": [
        {
          "output_type": "stream",
          "text": [
            "1 a\n",
            "2 b\n",
            "4 c\n",
            "8 d\n",
            "16 e\n"
          ],
          "name": "stdout"
        }
      ]
    },
    {
      "cell_type": "markdown",
      "metadata": {
        "id": "ppRfzsR32LNi",
        "colab_type": "text"
      },
      "source": [
        " # Dictionary can be iterated in these two ways"
      ]
    },
    {
      "cell_type": "code",
      "metadata": {
        "id": "AegLXKk02QL3",
        "colab_type": "code",
        "colab": {
          "base_uri": "https://localhost:8080/",
          "height": 46
        },
        "outputId": "6bd0fc63-28b1-40ae-efcf-6e036c526946"
      },
      "source": [
        " \n",
        "z = {'a': 0, 'b': 1}\n",
        "for k in z:\n",
        "  print(k, z[k])"
      ],
      "execution_count": null,
      "outputs": [
        {
          "output_type": "stream",
          "text": [
            "a 0\n",
            "b 1\n"
          ],
          "name": "stdout"
        }
      ]
    },
    {
      "cell_type": "code",
      "metadata": {
        "id": "PjmTNoHF2XQi",
        "colab_type": "code",
        "colab": {
          "base_uri": "https://localhost:8080/",
          "height": 46
        },
        "outputId": "85435ffc-5b0f-48b2-fb82-b6a42ff6b429"
      },
      "source": [
        " \n",
        "for k, v in z.items():\n",
        "  print(k, v)"
      ],
      "execution_count": null,
      "outputs": [
        {
          "output_type": "stream",
          "text": [
            "a 0\n",
            "b 1\n"
          ],
          "name": "stdout"
        }
      ]
    },
    {
      "cell_type": "markdown",
      "metadata": {
        "id": "ZMg6lhzB2dEZ",
        "colab_type": "text"
      },
      "source": [
        " # Comparing to Zero"
      ]
    },
    {
      "cell_type": "code",
      "metadata": {
        "id": "TXtGz6Nl2htE",
        "colab_type": "code",
        "colab": {
          "base_uri": "https://localhost:8080/",
          "height": 75
        },
        "outputId": "1393afbb-648c-4d27-ca03-adf371bdfb9c"
      },
      "source": [
        " \n",
        "#To print only non zero values from tuple x\n",
        "x = (1, 2, 0, 3, 0, 4)\n",
        "for item in x:\n",
        "    if item != 0:\n",
        "      print(item)"
      ],
      "execution_count": null,
      "outputs": [
        {
          "output_type": "stream",
          "text": [
            "1\n",
            "2\n",
            "3\n",
            "4\n"
          ],
          "name": "stdout"
        }
      ]
    },
    {
      "cell_type": "markdown",
      "metadata": {
        "id": "ZtQUa1Wy2mXA",
        "colab_type": "text"
      },
      "source": [
        " # The Pythonic way is to exploit the fact that zero is interpreted as False in a Boolean\n",
        "context, while all other numbers are considered as True:"
      ]
    },
    {
      "cell_type": "code",
      "metadata": {
        "id": "GRVLTDpW2suX",
        "colab_type": "code",
        "colab": {
          "base_uri": "https://localhost:8080/",
          "height": 75
        },
        "outputId": "25b7051b-dae2-4572-e217-0b0c147fb107"
      },
      "source": [
        " \n",
        "for item in x:\n",
        "  if item:\n",
        "    print(item)"
      ],
      "execution_count": null,
      "outputs": [
        {
          "output_type": "stream",
          "text": [
            "1\n",
            "2\n",
            "3\n",
            "4\n"
          ],
          "name": "stdout"
        }
      ]
    },
    {
      "cell_type": "markdown",
      "metadata": {
        "id": "7furLLib2xFY",
        "colab_type": "text"
      },
      "source": [
        " # Avoiding Mutable Optional Arguments"
      ]
    },
    {
      "cell_type": "code",
      "metadata": {
        "id": "cUuiCls23BXW",
        "colab_type": "code",
        "colab": {
          "base_uri": "https://localhost:8080/",
          "height": 31
        },
        "outputId": "a03400aa-5ba8-4a1a-d92c-b431c0040bee"
      },
      "source": [
        " \n",
        "def func(value, seq=[]):\n",
        "  seq.append(value)\n",
        "  return seq\n",
        "print(func(value=2))"
      ],
      "execution_count": null,
      "outputs": [
        {
          "output_type": "stream",
          "text": [
            "[2]\n"
          ],
          "name": "stdout"
        }
      ]
    },
    {
      "cell_type": "markdown",
      "metadata": {
        "id": "L2IYq0ji3FwL",
        "colab_type": "text"
      },
      "source": [
        " # keep away from that with some additional logic"
      ]
    },
    {
      "cell_type": "code",
      "metadata": {
        "id": "BwYnqzHm3Rxv",
        "colab_type": "code",
        "colab": {
          "base_uri": "https://localhost:8080/",
          "height": 31
        },
        "outputId": "5ac30562-bd98-4421-9663-a6f36ead313d"
      },
      "source": [
        " \n",
        "def func(value, seq=None):\n",
        "  if seq is None:\n",
        "    seq = []\n",
        "    seq.append(value)\n",
        "    return seq\n",
        "print(func(value=6))"
      ],
      "execution_count": null,
      "outputs": [
        {
          "output_type": "stream",
          "text": [
            "[6]\n"
          ],
          "name": "stdout"
        }
      ]
    }
  ]
}