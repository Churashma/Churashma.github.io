{
  "nbformat": 4,
  "nbformat_minor": 0,
  "metadata": {
    "colab": {
      "name": "Day3-session2-exercise programs",
      "provenance": [],
      "collapsed_sections": [],
      "authorship_tag": "ABX9TyOBQM7qFVmDevIoZ6di/HKU",
      "include_colab_link": true
    },
    "kernelspec": {
      "name": "python3",
      "display_name": "Python 3"
    }
  },
  "cells": [
    {
      "cell_type": "markdown",
      "metadata": {
        "id": "view-in-github",
        "colab_type": "text"
      },
      "source": [
        "<a href=\"https://colab.research.google.com/github/Churashma/python-workshop/blob/master/Day3_session2_exercise_programs.ipynb\" target=\"_parent\"><img src=\"https://colab.research.google.com/assets/colab-badge.svg\" alt=\"Open In Colab\"/></a>"
      ]
    },
    {
      "cell_type": "markdown",
      "metadata": {
        "id": "1yqC0MF6QsGB",
        "colab_type": "text"
      },
      "source": [
        " # Write a Python Program to Print Multiplication Table of a  number which got through keyboard."
      ]
    },
    {
      "cell_type": "code",
      "metadata": {
        "id": "WkQLn5QdQ5g8",
        "colab_type": "code",
        "colab": {
          "base_uri": "https://localhost:8080/",
          "height": 191
        },
        "outputId": "f09a5070-379e-4ab6-d161-d11da9523310"
      },
      "source": [
        " \n",
        "num = int(input(\"Enter the number: \"))\n",
        " \n",
        "print(\"Multiplication Table of\", num)\n",
        "for i in range(1, 11):\n",
        "   print(num,\"X\",i,\"=\",num * i)"
      ],
      "execution_count": null,
      "outputs": [
        {
          "output_type": "stream",
          "text": [
            "Enter the number: 10\n",
            "Multiplication Table of 10\n",
            "10 X 1 = 10\n",
            "10 X 2 = 20\n",
            "10 X 3 = 30\n",
            "10 X 4 = 40\n",
            "10 X 5 = 50\n",
            "10 X 6 = 60\n",
            "10 X 7 = 70\n",
            "10 X 8 = 80\n",
            "10 X 9 = 90\n",
            "10 X 10 = 100\n"
          ],
          "name": "stdout"
        }
      ]
    },
    {
      "cell_type": "markdown",
      "metadata": {
        "id": "3PLaaqBWQ6KP",
        "colab_type": "text"
      },
      "source": [
        " # Write a  Python Program to find the Armstrong Numbers between 1 and 2000 ( i.e 153 is amtrong numbers as 1**3+5**3+3**3=153 )"
      ]
    },
    {
      "cell_type": "code",
      "metadata": {
        "id": "NszCs_g-Q_13",
        "colab_type": "code",
        "colab": {
          "base_uri": "https://localhost:8080/",
          "height": 153
        },
        "outputId": "cfc1146a-9a7b-4170-dad6-8614889adeab"
      },
      "source": [
        " \n",
        "print(\"Enter the interval (starting and ending number): \");\n",
        "start = input();\n",
        "if start == 'x':\n",
        "    exit();\n",
        "else:\n",
        "    end = input();\n",
        "    lower = int(start);\n",
        "    upper = int(end);\n",
        "    for num in range(lower, upper+1):\n",
        "        tot = 0;\n",
        "        temp = num;\n",
        "        while temp != 0:\n",
        "            dig = temp % 10;\n",
        "            tot += dig ** 3;\n",
        "            temp //= 10;\n",
        "        if num == tot:\n",
        "            print(num);"
      ],
      "execution_count": null,
      "outputs": [
        {
          "output_type": "stream",
          "text": [
            "Enter the interval (starting and ending number): \n",
            "1\n",
            "2000\n",
            "1\n",
            "153\n",
            "370\n",
            "371\n",
            "407\n"
          ],
          "name": "stdout"
        }
      ]
    },
    {
      "cell_type": "markdown",
      "metadata": {
        "id": "qq398IZLRAME",
        "colab_type": "text"
      },
      "source": [
        "# Write a python program to get the list of tuples (rollno, name) for n students by getting rollno and name through keyboard. Sort and print  them as rollno wise and name wise both ascending and descending as well as alphabetical and dealphabetical orders"
      ]
    },
    {
      "cell_type": "code",
      "metadata": {
        "id": "BvH1fDjoREn8",
        "colab_type": "code",
        "colab": {
          "base_uri": "https://localhost:8080/",
          "height": 182
        },
        "outputId": "6eadac09-43f6-4273-8c93-29ca4a51e9d4"
      },
      "source": [
        " \n",
        "l=[]\n",
        "def inp():\n",
        "  name = input('Name : ')\n",
        "  rolno = input(' Rol No : ')\n",
        "  return (name,rolno)  # returns tuples\n",
        " \n",
        "n = int(input('Number of Students : '))\n",
        "for x in range(n):\n",
        "  l.append(inp())\n",
        " \n",
        "print(f'Original : {l}')\n",
        " \n",
        "l.sort(key = lambda x:x[1])\n",
        "print(f'According to Rol No : Ascending :{l}')\n",
        "print(f'According to Rol No : Descending :{l[::-1]}')\n",
        " \n",
        "l.sort(key = lambda x:x[0])\n",
        "print(f'According to Name : Ascending :{l}')\n",
        "print(f'According to Name : Descending :{l[::-1]}')"
      ],
      "execution_count": null,
      "outputs": [
        {
          "output_type": "stream",
          "text": [
            "Number of Students : 2\n",
            "Name : Churashma\n",
            " Rol No : 6\n",
            "Name : Mandira\n",
            " Rol No : 8\n",
            "Original : [('Churashma', '6'), ('Mandira', '8')]\n",
            "According to Rol No : Ascending :[('Churashma', '6'), ('Mandira', '8')]\n",
            "According to Rol No : Descending :[('Mandira', '8'), ('Churashma', '6')]\n",
            "According to Name : Ascending :[('Churashma', '6'), ('Mandira', '8')]\n",
            "According to Name : Descending :[('Mandira', '8'), ('Churashma', '6')]\n"
          ],
          "name": "stdout"
        }
      ]
    },
    {
      "cell_type": "markdown",
      "metadata": {
        "id": "bs5uGsatRE5R",
        "colab_type": "text"
      },
      "source": [
        " # Python Program to Detect if Two Strings are Anagrams ( They are  the two strings which have same length and same words which may be different in their order)"
      ]
    },
    {
      "cell_type": "code",
      "metadata": {
        "id": "tg4PcGzNRLKB",
        "colab_type": "code",
        "colab": {
          "base_uri": "https://localhost:8080/",
          "height": 31
        },
        "outputId": "9a1bbcd0-b019-4167-9c1c-88634970dc1a"
      },
      "source": [
        " \n",
        "def check(s1, s2): \n",
        "    if(sorted(s1)== sorted(s2)): \n",
        "        print(\"The strings are anagrams.\") \n",
        "    else: \n",
        "        print(\"The strings aren't anagrams.\")        \n",
        "s1 =\"listen\"\n",
        "s2 =\"silent\"\n",
        "check(s1, s2)"
      ],
      "execution_count": null,
      "outputs": [
        {
          "output_type": "stream",
          "text": [
            "The strings are anagrams.\n"
          ],
          "name": "stdout"
        }
      ]
    }
  ]
}