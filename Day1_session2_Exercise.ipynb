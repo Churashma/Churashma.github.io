{
  "nbformat": 4,
  "nbformat_minor": 0,
  "metadata": {
    "colab": {
      "name": "Day1 session2 Exercise.ipynb",
      "provenance": [],
      "collapsed_sections": [],
      "include_colab_link": true
    },
    "kernelspec": {
      "name": "python3",
      "display_name": "Python 3"
    }
  },
  "cells": [
    {
      "cell_type": "markdown",
      "metadata": {
        "id": "view-in-github",
        "colab_type": "text"
      },
      "source": [
        "<a href=\"https://colab.research.google.com/github/Churashma/Churashma.github.io/blob/master/Day1_session2_Exercise.ipynb\" target=\"_parent\"><img src=\"https://colab.research.google.com/assets/colab-badge.svg\" alt=\"Open In Colab\"/></a>"
      ]
    },
    {
      "cell_type": "markdown",
      "metadata": {
        "id": "KQdT83qW6mEH",
        "colab_type": "text"
      },
      "source": [
        "#1.Write a program to print the triangle \n",
        "#i/p  4\n",
        " \n",
        "#1\n",
        "#2    3\n",
        "#3    4   5\n",
        "#4    5   6   7"
      ]
    },
    {
      "cell_type": "code",
      "metadata": {
        "id": "De_HO6ul60oo",
        "colab_type": "code",
        "colab": {
          "base_uri": "https://localhost:8080/",
          "height": 78
        },
        "outputId": "a4677b64-dc00-4640-abb7-21cabb034fda"
      },
      "source": [
        " \n",
        "currentNumber = 1\n",
        "rows = 4  # Rows you want in your pattern\n",
        "stop = 1\n",
        "for i in range(rows):\n",
        "    for column in range(1, stop):\n",
        "        print(currentNumber, end=' ')\n",
        "        currentNumber +=1\n",
        "    print(\"\")\n",
        "    stop += 1"
      ],
      "execution_count": null,
      "outputs": [
        {
          "output_type": "stream",
          "text": [
            "\n",
            "1 \n",
            "2 3 \n",
            "4 5 6 \n"
          ],
          "name": "stdout"
        }
      ]
    },
    {
      "cell_type": "markdown",
      "metadata": {
        "id": "Hjq429bP9vUt",
        "colab_type": "text"
      },
      "source": [
        "#2.Write a program to print the triangle:\n",
        "#i/p 4\n",
        "#*\n",
        "#* *\n",
        "#* * *\n",
        "#* * * *"
      ]
    },
    {
      "cell_type": "code",
      "metadata": {
        "id": "NNo0-YFo-JQm",
        "colab_type": "code",
        "colab": {
          "base_uri": "https://localhost:8080/",
          "height": 78
        },
        "outputId": "b85d3365-3954-4d77-8a5a-db184a0ddd0e"
      },
      "source": [
        " \n",
        "rows = 4\n",
        "for i in range(0, rows):\n",
        "    for j in range(0, i + 1):\n",
        "        print(\"*\", end=' ')\n",
        " \n",
        "    print(\"\\r\")"
      ],
      "execution_count": null,
      "outputs": [
        {
          "output_type": "stream",
          "text": [
            "* \r\n",
            "* * \r\n",
            "* * * \r\n",
            "* * * * \r\n"
          ],
          "name": "stdout"
        }
      ]
    },
    {
      "cell_type": "markdown",
      "metadata": {
        "id": "eaB6OLAr-OzA",
        "colab_type": "text"
      },
      "source": [
        "#3.Write a program to print the triangle  \n",
        "#i/p 5\n",
        "#5\n",
        "#4 5\n",
        "#3 4 5\n",
        "#2 3 4 5\n",
        "#1 2 3 4 5"
      ]
    },
    {
      "cell_type": "code",
      "metadata": {
        "id": "sUJmH2EO-bcN",
        "colab_type": "code",
        "colab": {
          "base_uri": "https://localhost:8080/",
          "height": 93
        },
        "outputId": "e258dfeb-807f-4e74-9f13-6932e481f684"
      },
      "source": [
        " for i in range(5,0,-1):\n",
        "    for j in range(i,6):\n",
        "        print(j,end='')\n",
        "    print()"
      ],
      "execution_count": null,
      "outputs": [
        {
          "output_type": "stream",
          "text": [
            "5\n",
            "45\n",
            "345\n",
            "2345\n",
            "12345\n"
          ],
          "name": "stdout"
        }
      ]
    },
    {
      "cell_type": "markdown",
      "metadata": {
        "id": "PZXaODwr-7vo",
        "colab_type": "text"
      },
      "source": [
        "#4.Write a program to print the triangle:\n",
        "#i/p 5\n",
        "#5 4 3 2 1\n",
        "#4 3 2 1\n",
        "#3 2 1\n",
        "#2 1\n",
        "#1"
      ]
    },
    {
      "cell_type": "code",
      "metadata": {
        "id": "6BJJq4uh_Fwb",
        "colab_type": "code",
        "colab": {
          "base_uri": "https://localhost:8080/",
          "height": 109
        },
        "outputId": "13032a68-cf05-44e4-ae4b-284393842924"
      },
      "source": [
        " \n",
        "rows = 5\n",
        "for i in range(0, rows + 1):\n",
        "    for j in range(rows - i, 0, -1):\n",
        "        print(j, end=' ')\n",
        "    print()"
      ],
      "execution_count": null,
      "outputs": [
        {
          "output_type": "stream",
          "text": [
            "5 4 3 2 1 \n",
            "4 3 2 1 \n",
            "3 2 1 \n",
            "2 1 \n",
            "1 \n",
            "\n"
          ],
          "name": "stdout"
        }
      ]
    },
    {
      "cell_type": "markdown",
      "metadata": {
        "id": "vG1igWhI_P8a",
        "colab_type": "text"
      },
      "source": [
        "#5.Write a program to print the triangle:\n",
        "#i/p 4\n",
        "#1 2 3 4\n",
        "#2 3 4\n",
        "#3 4\n",
        "#4\n",
        "#3 4\n",
        "#2 3 4\n",
        "#1 2 3 4"
      ]
    },
    {
      "cell_type": "code",
      "metadata": {
        "id": "f-ZDfx-M_fIz",
        "colab_type": "code",
        "colab": {}
      },
      "source": [
        ""
      ],
      "execution_count": null,
      "outputs": []
    },
    {
      "cell_type": "markdown",
      "metadata": {
        "id": "-8a85UA3DMPz",
        "colab_type": "text"
      },
      "source": [
        "#6.Find the length of a string without using len functions"
      ]
    },
    {
      "cell_type": "code",
      "metadata": {
        "id": "i8joTgGcDQZY",
        "colab_type": "code",
        "colab": {
          "base_uri": "https://localhost:8080/",
          "height": 47
        },
        "outputId": "df5a4f36-2da1-45b8-d9e3-906642e891e7"
      },
      "source": [
        " \n",
        "str = input(\"Enter a string: \")\n",
        " \n",
        "# counter variable to count the character in a string\n",
        "counter = 0\n",
        "for s in str:\n",
        "      counter = counter+1\n",
        "print(\"Length of the input string is:\", counter)"
      ],
      "execution_count": null,
      "outputs": [
        {
          "output_type": "stream",
          "text": [
            "Enter a string: Ambika\n",
            "Length of the input string is: 6\n"
          ],
          "name": "stdout"
        }
      ]
    },
    {
      "cell_type": "markdown",
      "metadata": {
        "id": "a75JyzpcDRH2",
        "colab_type": "text"
      },
      "source": [
        "#7.Find the no of words and characters in a string"
      ]
    },
    {
      "cell_type": "code",
      "metadata": {
        "id": "ifxL-Dg1Fx95",
        "colab_type": "code",
        "colab": {
          "base_uri": "https://localhost:8080/",
          "height": 93
        },
        "outputId": "0035af71-5bb8-4bab-d4f7-a738f13d0ba9"
      },
      "source": [
        "string = input(\"Enter string:\")\n",
        "char=0\n",
        "word=1\n",
        "for i in string:\n",
        "      char=char+1\n",
        "      if(i==' '):\n",
        "            word=word+1\n",
        "print(\"Number of words in the string:\")\n",
        "print(word)\n",
        "print(\"Number of characters in the string:\")\n",
        "print(char)"
      ],
      "execution_count": null,
      "outputs": [
        {
          "output_type": "stream",
          "text": [
            "Enter string:Ambika\n",
            "Number of words in the string:\n",
            "1\n",
            "Number of characters in the string:\n",
            "6\n"
          ],
          "name": "stdout"
        }
      ]
    },
    {
      "cell_type": "markdown",
      "metadata": {
        "id": "x0NDYu_HDWak",
        "colab_type": "text"
      },
      "source": [
        "#8.Find the no of occurrences of a word in a string"
      ]
    },
    {
      "cell_type": "code",
      "metadata": {
        "id": "uPwsJ0Z-F78L",
        "colab_type": "code",
        "colab": {
          "base_uri": "https://localhost:8080/",
          "height": 32
        },
        "outputId": "3d0e49bd-2e6f-4869-fe7b-5072f62cb04e"
      },
      "source": [
        "# define string\n",
        "string = \"Python is awesome, isn't it?\"\n",
        "substring = \"is\"\n",
        " \n",
        "count = string.count(substring)\n",
        " \n",
        "# print count\n",
        "print(\"The count is:\", count)"
      ],
      "execution_count": null,
      "outputs": [
        {
          "output_type": "stream",
          "text": [
            "The count is: 2\n"
          ],
          "name": "stdout"
        }
      ]
    }
  ]
}