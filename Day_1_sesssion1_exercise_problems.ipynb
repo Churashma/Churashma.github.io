{
  "nbformat": 4,
  "nbformat_minor": 0,
  "metadata": {
    "colab": {
      "name": "Day 1-sesssion1- exercise problems",
      "provenance": [],
      "collapsed_sections": [],
      "authorship_tag": "ABX9TyPq9SCp+qwzIf+7Hy+2C7cn",
      "include_colab_link": true
    },
    "kernelspec": {
      "name": "python3",
      "display_name": "Python 3"
    }
  },
  "cells": [
    {
      "cell_type": "markdown",
      "metadata": {
        "id": "view-in-github",
        "colab_type": "text"
      },
      "source": [
        "<a href=\"https://colab.research.google.com/github/Churashma/Churashma.github.io/blob/master/Day_1_sesssion1_exercise_problems.ipynb\" target=\"_parent\"><img src=\"https://colab.research.google.com/assets/colab-badge.svg\" alt=\"Open In Colab\"/></a>"
      ]
    },
    {
      "cell_type": "markdown",
      "metadata": {
        "id": "R0I_2b1UeFNA",
        "colab_type": "text"
      },
      "source": [
        " #Find the compound interest for the given p,n,r  (formula : p(1+n*r/100)n )"
      ]
    },
    {
      "cell_type": "code",
      "metadata": {
        "id": "ffktIGfAeK3J",
        "colab_type": "code",
        "colab": {
          "base_uri": "https://localhost:8080/",
          "height": 51
        },
        "outputId": "bb246cfc-6f0c-415f-e746-5754b1047203"
      },
      "source": [
        " \n",
        "def compound_interest(principle, rate, n): \n",
        " \n",
        "  \n",
        " \n",
        "    # Calculates compound interest  \n",
        " \n",
        "    Amount = principle * (pow((1 +(n * rate) / 100), n)) \n",
        " \n",
        "    CI = Amount - principle \n",
        " \n",
        "    print(\"Compound interest is\", CI) \n",
        " \n",
        "  \n",
        "# Driver Code  \n",
        " \n",
        "compound_interest(10000, 10.25, 5)"
      ],
      "execution_count": null,
      "outputs": [
        {
          "output_type": "stream",
          "text": [
            "Compound interest is 69154.73816223144\n"
          ],
          "name": "stdout"
        }
      ]
    },
    {
      "cell_type": "markdown",
      "metadata": {
        "id": "aTqOCOmRetPt",
        "colab_type": "text"
      },
      "source": [
        " #Convert centegrade to farenheit  ( f= 9/5*c+32)"
      ]
    },
    {
      "cell_type": "code",
      "metadata": {
        "id": "sIo9W09pe2NJ",
        "colab_type": "code",
        "colab": {
          "base_uri": "https://localhost:8080/",
          "height": 46
        },
        "outputId": "65dd5abf-0226-4ebc-f3e6-d56421e8a7dc"
      },
      "source": [
        " \n",
        "celsius = float(input(\"Enter temperature in celsius: \"))\n",
        "fahrenheit = (celsius * 9/5) + 32\n",
        "print('%.2f Celsius is: %0.2f Fahrenheit' %(celsius, fahrenheit))"
      ],
      "execution_count": null,
      "outputs": [
        {
          "output_type": "stream",
          "text": [
            "Enter temperature in celsius: 28\n",
            "28.00 Celsius is: 82.40 Fahrenheit\n"
          ],
          "name": "stdout"
        }
      ]
    },
    {
      "cell_type": "markdown",
      "metadata": {
        "id": "YWc-OO8afWym",
        "colab_type": "text"
      },
      "source": [
        " #Find the greater of two nos"
      ]
    },
    {
      "cell_type": "code",
      "metadata": {
        "id": "jUhD7zy8fdoc",
        "colab_type": "code",
        "colab": {
          "base_uri": "https://localhost:8080/",
          "height": 60
        },
        "outputId": "5a50a576-d76b-4170-be2d-25a6c60ac1b9"
      },
      "source": [
        " \n",
        "# Python Program to find Largest of two Numbers using if-else statements\n",
        "a = int(input(\"Enter the first number: \"))\n",
        "b = int(input(\"Enter the second number: \"))\n",
        "if(a >= b):\n",
        "  print(a, \"is greater\")\n",
        "else:\n",
        "  print(b, \"is greater\")"
      ],
      "execution_count": null,
      "outputs": [
        {
          "output_type": "stream",
          "text": [
            "Enter the first number: 5\n",
            "Enter the second number: 6\n",
            "6 is greater\n"
          ],
          "name": "stdout"
        }
      ]
    },
    {
      "cell_type": "markdown",
      "metadata": {
        "id": "mQr8mAa-fsxF",
        "colab_type": "text"
      },
      "source": [
        " #Write a program for finding surface areas of cylinder and cone (2*PI*r*r*h, 1/3*PI*r*r*h) using function."
      ]
    },
    {
      "cell_type": "code",
      "metadata": {
        "id": "4X8WD4ygfyhO",
        "colab_type": "code",
        "colab": {
          "base_uri": "https://localhost:8080/",
          "height": 66
        },
        "outputId": "355049c7-5dae-4714-9cc6-d4b57495599c"
      },
      "source": [
        " \n",
        "import math \n",
        " \n",
        "pi = math.pi \n",
        "# Function To Calculate Surface Area of Cone \n",
        " \n",
        "def surfacearea(r, s): \n",
        " \n",
        "    return pi * r * s + pi * r * r \n",
        " \n",
        "# Function To Calculate Total Surface Area \n",
        "# of Cylinder \n",
        " \n",
        "def totalsurfacearea(r, h): \n",
        " \n",
        "    tsurf_ar = (2 * pi * r * h) + (2 * pi * r * r) \n",
        " \n",
        "    return tsurf_ar \n",
        "  \n",
        "# Driver Code \n",
        " \n",
        "radius = float(5) \n",
        " \n",
        "height = float(12) \n",
        " \n",
        "slat_height = float(13) \n",
        " \n",
        "r = 5\n",
        " \n",
        "h = 8\n",
        "print( \"Surface Area Of Cone : \", surfacearea(radius, slat_height) )\n",
        " \n",
        "print(\"Total  Surface Area  Of Cylinder =  \",totalsurfacearea(r,h))"
      ],
      "execution_count": null,
      "outputs": [
        {
          "output_type": "stream",
          "text": [
            "Surface Area Of Cone :  282.7433388230814\n",
            "Total  Surface Area  Of Cylinder =   408.4070449666731\n"
          ],
          "name": "stdout"
        }
      ]
    },
    {
      "cell_type": "markdown",
      "metadata": {
        "id": "70OW5yqMgF7q",
        "colab_type": "text"
      },
      "source": [
        " #Find the greatest of four nos ( using ‘and’ operator)   using function."
      ]
    },
    {
      "cell_type": "code",
      "metadata": {
        "id": "jfeTbpubgMbf",
        "colab_type": "code",
        "colab": {
          "base_uri": "https://localhost:8080/",
          "height": 51
        },
        "outputId": "f52880c3-b6dc-4e65-c400-abbafaedac88"
      },
      "source": [
        " \n",
        "n1 = 5\n",
        " \n",
        "n2 = 10\n",
        " \n",
        "n3 = 15\n",
        " \n",
        "n4 = 20\n",
        " \n",
        "  \n",
        " \n",
        "mx = (n1 if (n1 > n2 and n1 > n2 and n1 > n4)  \n",
        " \n",
        "         else (n2 if (n2 > n3 and n3 > n4)  \n",
        " \n",
        "         else (n3 if n3 > n4 else n4))) \n",
        " \n",
        "  \n",
        "# str() function is used to convert  \n",
        "# integer to string, it is required  \n",
        "# as we are concatenating integers \n",
        "# with string \n",
        " \n",
        "print(\"Largest number among \" + str(n1) + \", \" + \n",
        " \n",
        "            str(n2) + \", \" + str(n3) + \" and \" + \n",
        " \n",
        "            str(n4) + \" is \" + str(mx))"
      ],
      "execution_count": null,
      "outputs": [
        {
          "output_type": "stream",
          "text": [
            "Largest number among 5, 10, 15 and 20 is 20\n"
          ],
          "name": "stdout"
        }
      ]
    },
    {
      "cell_type": "markdown",
      "metadata": {
        "id": "cBFTxdPRg7wR",
        "colab_type": "text"
      },
      "source": [
        " #Write a  menu program to perform the operations ( ODDorEven, Factorial, ODDNoUptoN, PrimeUptoN ) using functions for two nos with  menu choice"
      ]
    },
    {
      "cell_type": "code",
      "metadata": {
        "id": "OiALN1V8hBs9",
        "colab_type": "code",
        "colab": {
          "base_uri": "https://localhost:8080/",
          "height": 1000
        },
        "outputId": "86b2bb87-f6a8-4223-d358-e41b7b23cfac"
      },
      "source": [
        " def odd_even(num):\n",
        "  if num%2==0:\n",
        "    print(\"The number is even\")\n",
        "  else:\n",
        "    print(\"The number is odd\")\n",
        " \n",
        "def fact(num):\n",
        "  fact=1\n",
        "  if num==0:\n",
        "    print(\"Factorial of 0 is 1\")\n",
        "  else:\n",
        "    for i in range(1,num+1):\n",
        "      fact=fact*i\n",
        "    print(\"The factorial of\",num,\"is\",fact)\n",
        " \n",
        "def odd(num):\n",
        "  for i in range(0,num+1):\n",
        "    if (i%2)!=0:\n",
        "      print(i)\n",
        " \n",
        "def prime(num):\n",
        "  for num in range(1, num+1):\n",
        "    if num > 1:\n",
        "       for i in range(2, num):\n",
        "           if (num % i) == 0:\n",
        "               break\n",
        "       else:\n",
        "           print(num)\n",
        " \n",
        "loop=1\n",
        "choice=0\n",
        "while loop == 1:\n",
        "  print (\"Welcome to menu\")\n",
        "  print (\"your options are:\")\n",
        "  print (\" \")\n",
        "  print(\"1) Find odd or even number\")\n",
        "  print(\"2) find factorial\")\n",
        "  print(\"3) find all odd number\")\n",
        "  print(\"4) find prime number\")\n",
        "    \n",
        "  print(\" \")\n",
        "  try:\n",
        "    choice = int(input(\"Choose your option: \"))\n",
        "  except:\n",
        "    print('please enter a valid number for option')\n",
        "    print(\" \")\n",
        "    print(\" \")\n",
        " \n",
        "  if choice==1:\n",
        "    number=int(input(\"enter the number:\"))\n",
        "    print(\"Result:\",odd_even(number))\n",
        "  elif choice==2:\n",
        "    number=int(input(\"enter the number:\"))\n",
        "    print(\"Result:\",fact(number))\n",
        "  elif choice==3:\n",
        "    number=int(input(\"enter the number:\"))\n",
        "    print(\"Result:\",odd(number))\n",
        "  elif choice==4:\n",
        "    number=int(input(\"enter the number:\"))\n",
        "    print(\"Result:\",prime(number))\n",
        "  elif choice == 5:\n",
        "    loop = 0\n",
        "     \n",
        "  else:\n",
        "    print(\"please choice a valid option from 1 to 5\")\n",
        "    choice=0"
      ],
      "execution_count": null,
      "outputs": [
        {
          "output_type": "stream",
          "text": [
            "Welcome to menu\n",
            "your options are:\n",
            " \n",
            "1) Find odd or even number\n",
            "2) find factorial\n",
            "3) find all odd number\n",
            "4) find prime number\n",
            " \n",
            "The number is odd\n",
            "Result: None\n",
            "Welcome to menu\n",
            "your options are:\n",
            " \n",
            "1) Find odd or even number\n",
            "2) find factorial\n",
            "3) find all odd number\n",
            "4) find prime number\n",
            " \n",
            "The factorial of 4 is 24\n",
            "Result: None\n",
            "Welcome to menu\n",
            "your options are:\n",
            " \n",
            "1) Find odd or even number\n",
            "2) find factorial\n",
            "3) find all odd number\n",
            "4) find prime number\n",
            " \n",
            "1\n",
            "3\n",
            "5\n",
            "7\n",
            "Result: None\n",
            "Welcome to menu\n",
            "your options are:\n",
            " \n",
            "1) Find odd or even number\n",
            "2) find factorial\n",
            "3) find all odd number\n",
            "4) find prime number\n",
            " \n",
            "2\n",
            "3\n",
            "5\n",
            "7\n",
            "Result: None\n",
            "Welcome to menu\n",
            "your options are:\n",
            " \n",
            "1) Find odd or even number\n",
            "2) find factorial\n",
            "3) find all odd number\n",
            "4) find prime number\n",
            " \n",
            "The number is even\n",
            "Result: None\n",
            "Welcome to menu\n",
            "your options are:\n",
            " \n",
            "1) Find odd or even number\n",
            "2) find factorial\n",
            "3) find all odd number\n",
            "4) find prime number\n",
            " \n",
            "Result: None\n",
            "Welcome to menu\n",
            "your options are:\n",
            " \n",
            "1) Find odd or even number\n",
            "2) find factorial\n",
            "3) find all odd number\n",
            "4) find prime number\n",
            " \n"
          ],
          "name": "stdout"
        }
      ]
    }
  ]
}