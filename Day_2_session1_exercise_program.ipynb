{
  "nbformat": 4,
  "nbformat_minor": 0,
  "metadata": {
    "colab": {
      "name": "Day 2-session1-exercise program",
      "provenance": [],
      "collapsed_sections": [],
      "authorship_tag": "ABX9TyNCA6AbQM0UWFxb/l4qIyOK",
      "include_colab_link": true
    },
    "kernelspec": {
      "name": "python3",
      "display_name": "Python 3"
    }
  },
  "cells": [
    {
      "cell_type": "markdown",
      "metadata": {
        "id": "view-in-github",
        "colab_type": "text"
      },
      "source": [
        "<a href=\"https://colab.research.google.com/github/Churashma/python-workshop/blob/master/Day_2_session1_exercise_program.ipynb\" target=\"_parent\"><img src=\"https://colab.research.google.com/assets/colab-badge.svg\" alt=\"Open In Colab\"/></a>"
      ]
    },
    {
      "cell_type": "markdown",
      "metadata": {
        "id": "oIdCzcZ-r38k",
        "colab_type": "text"
      },
      "source": [
        "#List"
      ]
    },
    {
      "cell_type": "markdown",
      "metadata": {
        "id": "54STz5n--KA8",
        "colab_type": "text"
      },
      "source": [
        " # print multiples of 3 upto 200 using a list"
      ]
    },
    {
      "cell_type": "code",
      "metadata": {
        "id": "5qRv-ENf-Vns",
        "colab_type": "code",
        "colab": {
          "base_uri": "https://localhost:8080/",
          "height": 988
        },
        "outputId": "e95ac6a9-4265-401a-c7a9-cad312e48aab"
      },
      "source": [
        "[i for i in range(200) if i % 3 == 0 ]"
      ],
      "execution_count": null,
      "outputs": [
        {
          "output_type": "execute_result",
          "data": {
            "text/plain": [
              "[0,\n",
              " 3,\n",
              " 6,\n",
              " 9,\n",
              " 12,\n",
              " 15,\n",
              " 18,\n",
              " 21,\n",
              " 24,\n",
              " 27,\n",
              " 30,\n",
              " 33,\n",
              " 36,\n",
              " 39,\n",
              " 42,\n",
              " 45,\n",
              " 48,\n",
              " 51,\n",
              " 54,\n",
              " 57,\n",
              " 60,\n",
              " 63,\n",
              " 66,\n",
              " 69,\n",
              " 72,\n",
              " 75,\n",
              " 78,\n",
              " 81,\n",
              " 84,\n",
              " 87,\n",
              " 90,\n",
              " 93,\n",
              " 96,\n",
              " 99,\n",
              " 102,\n",
              " 105,\n",
              " 108,\n",
              " 111,\n",
              " 114,\n",
              " 117,\n",
              " 120,\n",
              " 123,\n",
              " 126,\n",
              " 129,\n",
              " 132,\n",
              " 135,\n",
              " 138,\n",
              " 141,\n",
              " 144,\n",
              " 147,\n",
              " 150,\n",
              " 153,\n",
              " 156,\n",
              " 159,\n",
              " 162,\n",
              " 165,\n",
              " 168,\n",
              " 171,\n",
              " 174,\n",
              " 177,\n",
              " 180,\n",
              " 183,\n",
              " 186,\n",
              " 189,\n",
              " 192,\n",
              " 195,\n",
              " 198]"
            ]
          },
          "metadata": {
            "tags": []
          },
          "execution_count": 9
        }
      ]
    },
    {
      "cell_type": "markdown",
      "metadata": {
        "id": "OlFNVNbR_CWh",
        "colab_type": "text"
      },
      "source": [
        "# print the nos only divisable by 5 and 7 between 1000 and 2000 using a list( both inclusive)"
      ]
    },
    {
      "cell_type": "code",
      "metadata": {
        "id": "wBU7ntwc_vsQ",
        "colab_type": "code",
        "colab": {
          "base_uri": "https://localhost:8080/",
          "height": 51
        },
        "outputId": "8c4ea720-18c0-479e-c725-62984e84005f"
      },
      "source": [
        " \n",
        "nl=[]\n",
        "for x in range(1000, 2000):\n",
        "    if (x%7==0) and (x%5==0):\n",
        "        nl.append(str(x))\n",
        "print (','.join(nl))"
      ],
      "execution_count": null,
      "outputs": [
        {
          "output_type": "stream",
          "text": [
            "1015,1050,1085,1120,1155,1190,1225,1260,1295,1330,1365,1400,1435,1470,1505,1540,1575,1610,1645,1680,1715,1750,1785,1820,1855,1890,1925,1960,1995\n"
          ],
          "name": "stdout"
        }
      ]
    },
    {
      "cell_type": "markdown",
      "metadata": {
        "id": "J9Mbqtl8_1-b",
        "colab_type": "text"
      },
      "source": [
        " # Add the n number of names in a list and print them alphabetically and reverse alphabetically."
      ]
    },
    {
      "cell_type": "code",
      "metadata": {
        "id": "AMnmNTfXAL45",
        "colab_type": "code",
        "colab": {
          "base_uri": "https://localhost:8080/",
          "height": 138
        },
        "outputId": "901d0f0b-f2d0-4c57-e576-1e41e294c259"
      },
      "source": [
        " \n",
        "lst = ['gfg', 'is', 'a', 'portal', 'for', 'geeks'] \n",
        " \n",
        "  \n",
        "# Using sorted() function \n",
        " \n",
        "for ele in sorted(lst): \n",
        " \n",
        "    print(ele)\n",
        "lst.sort(reverse = True) \n",
        " \n",
        "  \n",
        " \n",
        "print(lst)"
      ],
      "execution_count": null,
      "outputs": [
        {
          "output_type": "stream",
          "text": [
            "a\n",
            "for\n",
            "geeks\n",
            "gfg\n",
            "is\n",
            "portal\n",
            "['portal', 'is', 'gfg', 'geeks', 'for', 'a']\n"
          ],
          "name": "stdout"
        }
      ]
    },
    {
      "cell_type": "markdown",
      "metadata": {
        "id": "MZaBmVDTBDkJ",
        "colab_type": "text"
      },
      "source": [
        "  # Print  perfect squares and divisible by 5 between 500 and 1000( (both inclusive) using list"
      ]
    },
    {
      "cell_type": "code",
      "metadata": {
        "id": "HECcboJxBKw1",
        "colab_type": "code",
        "colab": {
          "base_uri": "https://localhost:8080/",
          "height": 60
        },
        "outputId": "7351f3e5-997b-40a7-fd2b-a96f319e99e8"
      },
      "source": [
        " \n",
        "l=int(input(\"Enter lower range: \"))\n",
        "u=int(input(\"Enter upper range: \"))\n",
        "a=[]\n",
        "a=[x for x in range(l,u+1) if (int(x**0.5))**2==x or x % 5 == 0]\n",
        "print(a)"
      ],
      "execution_count": null,
      "outputs": [
        {
          "output_type": "stream",
          "text": [
            "Enter lower range: 3\n",
            "Enter upper range: 6\n",
            "[4, 5]\n"
          ],
          "name": "stdout"
        }
      ]
    },
    {
      "cell_type": "markdown",
      "metadata": {
        "id": "66t6_ob2BOwH",
        "colab_type": "text"
      },
      "source": [
        " # Calculate the Average of  the numbers in a List by getting the elements of list from keyboard ."
      ]
    },
    {
      "cell_type": "code",
      "metadata": {
        "id": "7u7w-ng8BT0z",
        "colab_type": "code",
        "colab": {
          "base_uri": "https://localhost:8080/",
          "height": 211
        },
        "outputId": "21296792-573f-45b2-c0c0-45e6dc76c57a"
      },
      "source": [
        " \n",
        "n=int(input(\"Enter the number of elements to be inserted: \"))\n",
        "a=[]\n",
        "for i in range(0,n):\n",
        "    elem=int(input(\"Enter element: \"))\n",
        "    a.append(elem)\n",
        "avg=sum(a)/n\n",
        "print(\"Average of elements in the list\",round(avg,2))"
      ],
      "execution_count": null,
      "outputs": [
        {
          "output_type": "stream",
          "text": [
            "Enter the number of elements to be inserted: 10\n",
            "Enter element: 1\n",
            "Enter element: 2\n",
            "Enter element: 3\n",
            "Enter element: 4\n",
            "Enter element: 5\n",
            "Enter element: 6\n",
            "Enter element: 7\n",
            "Enter element: 8\n",
            "Enter element: 9\n",
            "Enter element: 10\n",
            "Average of elements in the list 5.5\n"
          ],
          "name": "stdout"
        }
      ]
    },
    {
      "cell_type": "markdown",
      "metadata": {
        "id": "YiNkMxsuBsRm",
        "colab_type": "text"
      },
      "source": [
        " # Print lists of odd,even and multiples of 5 numbers from 1 to 1000 using list comprehension"
      ]
    },
    {
      "cell_type": "code",
      "metadata": {
        "id": "UAERALzaBuZ7",
        "colab_type": "code",
        "colab": {
          "base_uri": "https://localhost:8080/",
          "height": 51
        },
        "outputId": "40eb4835-e20a-474d-b589-4b17cd034429"
      },
      "source": [
        " \n",
        "number_list = [ x for x in range(1,1000) if x % 2 == 0 or x % 2 == 1 or x % 5 == 0 ]\n",
        "print(number_list)"
      ],
      "execution_count": null,
      "outputs": [
        {
          "output_type": "stream",
          "text": [
            "[1, 2, 3, 4, 5, 6, 7, 8, 9, 10, 11, 12, 13, 14, 15, 16, 17, 18, 19, 20, 21, 22, 23, 24, 25, 26, 27, 28, 29, 30, 31, 32, 33, 34, 35, 36, 37, 38, 39, 40, 41, 42, 43, 44, 45, 46, 47, 48, 49, 50, 51, 52, 53, 54, 55, 56, 57, 58, 59, 60, 61, 62, 63, 64, 65, 66, 67, 68, 69, 70, 71, 72, 73, 74, 75, 76, 77, 78, 79, 80, 81, 82, 83, 84, 85, 86, 87, 88, 89, 90, 91, 92, 93, 94, 95, 96, 97, 98, 99, 100, 101, 102, 103, 104, 105, 106, 107, 108, 109, 110, 111, 112, 113, 114, 115, 116, 117, 118, 119, 120, 121, 122, 123, 124, 125, 126, 127, 128, 129, 130, 131, 132, 133, 134, 135, 136, 137, 138, 139, 140, 141, 142, 143, 144, 145, 146, 147, 148, 149, 150, 151, 152, 153, 154, 155, 156, 157, 158, 159, 160, 161, 162, 163, 164, 165, 166, 167, 168, 169, 170, 171, 172, 173, 174, 175, 176, 177, 178, 179, 180, 181, 182, 183, 184, 185, 186, 187, 188, 189, 190, 191, 192, 193, 194, 195, 196, 197, 198, 199, 200, 201, 202, 203, 204, 205, 206, 207, 208, 209, 210, 211, 212, 213, 214, 215, 216, 217, 218, 219, 220, 221, 222, 223, 224, 225, 226, 227, 228, 229, 230, 231, 232, 233, 234, 235, 236, 237, 238, 239, 240, 241, 242, 243, 244, 245, 246, 247, 248, 249, 250, 251, 252, 253, 254, 255, 256, 257, 258, 259, 260, 261, 262, 263, 264, 265, 266, 267, 268, 269, 270, 271, 272, 273, 274, 275, 276, 277, 278, 279, 280, 281, 282, 283, 284, 285, 286, 287, 288, 289, 290, 291, 292, 293, 294, 295, 296, 297, 298, 299, 300, 301, 302, 303, 304, 305, 306, 307, 308, 309, 310, 311, 312, 313, 314, 315, 316, 317, 318, 319, 320, 321, 322, 323, 324, 325, 326, 327, 328, 329, 330, 331, 332, 333, 334, 335, 336, 337, 338, 339, 340, 341, 342, 343, 344, 345, 346, 347, 348, 349, 350, 351, 352, 353, 354, 355, 356, 357, 358, 359, 360, 361, 362, 363, 364, 365, 366, 367, 368, 369, 370, 371, 372, 373, 374, 375, 376, 377, 378, 379, 380, 381, 382, 383, 384, 385, 386, 387, 388, 389, 390, 391, 392, 393, 394, 395, 396, 397, 398, 399, 400, 401, 402, 403, 404, 405, 406, 407, 408, 409, 410, 411, 412, 413, 414, 415, 416, 417, 418, 419, 420, 421, 422, 423, 424, 425, 426, 427, 428, 429, 430, 431, 432, 433, 434, 435, 436, 437, 438, 439, 440, 441, 442, 443, 444, 445, 446, 447, 448, 449, 450, 451, 452, 453, 454, 455, 456, 457, 458, 459, 460, 461, 462, 463, 464, 465, 466, 467, 468, 469, 470, 471, 472, 473, 474, 475, 476, 477, 478, 479, 480, 481, 482, 483, 484, 485, 486, 487, 488, 489, 490, 491, 492, 493, 494, 495, 496, 497, 498, 499, 500, 501, 502, 503, 504, 505, 506, 507, 508, 509, 510, 511, 512, 513, 514, 515, 516, 517, 518, 519, 520, 521, 522, 523, 524, 525, 526, 527, 528, 529, 530, 531, 532, 533, 534, 535, 536, 537, 538, 539, 540, 541, 542, 543, 544, 545, 546, 547, 548, 549, 550, 551, 552, 553, 554, 555, 556, 557, 558, 559, 560, 561, 562, 563, 564, 565, 566, 567, 568, 569, 570, 571, 572, 573, 574, 575, 576, 577, 578, 579, 580, 581, 582, 583, 584, 585, 586, 587, 588, 589, 590, 591, 592, 593, 594, 595, 596, 597, 598, 599, 600, 601, 602, 603, 604, 605, 606, 607, 608, 609, 610, 611, 612, 613, 614, 615, 616, 617, 618, 619, 620, 621, 622, 623, 624, 625, 626, 627, 628, 629, 630, 631, 632, 633, 634, 635, 636, 637, 638, 639, 640, 641, 642, 643, 644, 645, 646, 647, 648, 649, 650, 651, 652, 653, 654, 655, 656, 657, 658, 659, 660, 661, 662, 663, 664, 665, 666, 667, 668, 669, 670, 671, 672, 673, 674, 675, 676, 677, 678, 679, 680, 681, 682, 683, 684, 685, 686, 687, 688, 689, 690, 691, 692, 693, 694, 695, 696, 697, 698, 699, 700, 701, 702, 703, 704, 705, 706, 707, 708, 709, 710, 711, 712, 713, 714, 715, 716, 717, 718, 719, 720, 721, 722, 723, 724, 725, 726, 727, 728, 729, 730, 731, 732, 733, 734, 735, 736, 737, 738, 739, 740, 741, 742, 743, 744, 745, 746, 747, 748, 749, 750, 751, 752, 753, 754, 755, 756, 757, 758, 759, 760, 761, 762, 763, 764, 765, 766, 767, 768, 769, 770, 771, 772, 773, 774, 775, 776, 777, 778, 779, 780, 781, 782, 783, 784, 785, 786, 787, 788, 789, 790, 791, 792, 793, 794, 795, 796, 797, 798, 799, 800, 801, 802, 803, 804, 805, 806, 807, 808, 809, 810, 811, 812, 813, 814, 815, 816, 817, 818, 819, 820, 821, 822, 823, 824, 825, 826, 827, 828, 829, 830, 831, 832, 833, 834, 835, 836, 837, 838, 839, 840, 841, 842, 843, 844, 845, 846, 847, 848, 849, 850, 851, 852, 853, 854, 855, 856, 857, 858, 859, 860, 861, 862, 863, 864, 865, 866, 867, 868, 869, 870, 871, 872, 873, 874, 875, 876, 877, 878, 879, 880, 881, 882, 883, 884, 885, 886, 887, 888, 889, 890, 891, 892, 893, 894, 895, 896, 897, 898, 899, 900, 901, 902, 903, 904, 905, 906, 907, 908, 909, 910, 911, 912, 913, 914, 915, 916, 917, 918, 919, 920, 921, 922, 923, 924, 925, 926, 927, 928, 929, 930, 931, 932, 933, 934, 935, 936, 937, 938, 939, 940, 941, 942, 943, 944, 945, 946, 947, 948, 949, 950, 951, 952, 953, 954, 955, 956, 957, 958, 959, 960, 961, 962, 963, 964, 965, 966, 967, 968, 969, 970, 971, 972, 973, 974, 975, 976, 977, 978, 979, 980, 981, 982, 983, 984, 985, 986, 987, 988, 989, 990, 991, 992, 993, 994, 995, 996, 997, 998, 999]\n"
          ],
          "name": "stdout"
        }
      ]
    },
    {
      "cell_type": "markdown",
      "metadata": {
        "id": "mUBuRt6QDiLb",
        "colab_type": "text"
      },
      "source": [
        "# Tuples"
      ]
    },
    {
      "cell_type": "markdown",
      "metadata": {
        "id": "KttSFjp_Dk4-",
        "colab_type": "text"
      },
      "source": [
        " # 1. Python Program to Create a List of Tuples with the First Element as the Number and Second Element as the Square of the Number"
      ]
    },
    {
      "cell_type": "code",
      "metadata": {
        "id": "W49FJ4scDrpB",
        "colab_type": "code",
        "colab": {
          "base_uri": "https://localhost:8080/",
          "height": 80
        },
        "outputId": "404d67a2-22da-423f-d483-a59a4d88665d"
      },
      "source": [
        "l_range=int(input(\"Enter the lower range:\")) \n",
        "u_range=int(input(\"Enter the upper range:\")) \n",
        "a=[(x,x**2) for x in range(l_range,u_range+1)] \n",
        "print(a)"
      ],
      "execution_count": null,
      "outputs": [
        {
          "output_type": "stream",
          "text": [
            "Enter the lower range:3\n",
            "Enter the upper range:7\n",
            "[(3, 9), (4, 16), (5, 25), (6, 36), (7, 49)]\n"
          ],
          "name": "stdout"
        }
      ]
    },
    {
      "cell_type": "markdown",
      "metadata": {
        "id": "NhKQLjZ8ESd1",
        "colab_type": "text"
      },
      "source": [
        " # 2. Write python program to have a list of words  to sort them from  shortest to longest using list of tuples"
      ]
    },
    {
      "cell_type": "code",
      "metadata": {
        "id": "zRAkelgOEVSg",
        "colab_type": "code",
        "colab": {
          "base_uri": "https://localhost:8080/",
          "height": 51
        },
        "outputId": "75922f8b-8aef-4091-c458-80fba895f7c6"
      },
      "source": [
        " \n",
        "def Sorting(lst): \n",
        " \n",
        "    lst.sort(key=len) \n",
        " \n",
        "    return lst \n",
        " \n",
        "      \n",
        "# Driver code \n",
        " \n",
        "lst = [\"rohan\", \"amy\", \"sapna\", \"muhammad\",  \n",
        " \n",
        "       \"aakash\", \"raunak\", \"chinmoy\"] \n",
        " \n",
        "print(Sorting(lst))"
      ],
      "execution_count": null,
      "outputs": [
        {
          "output_type": "stream",
          "text": [
            "['amy', 'rohan', 'sapna', 'aakash', 'raunak', 'chinmoy', 'muhammad']\n"
          ],
          "name": "stdout"
        }
      ]
    },
    {
      "cell_type": "markdown",
      "metadata": {
        "id": "95GkSkbCEcFS",
        "colab_type": "text"
      },
      "source": [
        "# 3.Write python program to get a list of tuples of Rollno,Name for 5 students through keyboard and sort them Rollno wise ascending order"
      ]
    },
    {
      "cell_type": "code",
      "metadata": {
        "id": "QPhvaAYTEhsU",
        "colab_type": "code",
        "colab": {
          "base_uri": "https://localhost:8080/",
          "height": 225
        },
        "outputId": "def09c55-2ddb-4602-e2f7-9543cb2f8a0b"
      },
      "source": [
        " l = []\n",
        " \n",
        "def inp():\n",
        "  name = input('Name : ')\n",
        "  rolno = input(' Rol No : ')\n",
        "  return (name,rolno)  # returns tuples\n",
        " \n",
        "n = int(input('Number of Students : '))\n",
        "for x in range(n):\n",
        "  l.append(inp())\n",
        " \n",
        "print(f'Original : {l}')\n",
        " \n",
        "l.sort(key = lambda x:x[1])\n",
        "print(f'According to Rol No : Ascending :{l}')"
      ],
      "execution_count": null,
      "outputs": [
        {
          "output_type": "stream",
          "text": [
            "Number of Students : 5\n",
            "Name : Mandira\n",
            " Rol No : 8\n",
            "Name : Maya\n",
            " Rol No : 9\n",
            "Name : Pandu\n",
            " Rol No : 4\n",
            "Name : Radha\n",
            " Rol No : 5\n",
            "Name : Rashi\n",
            " Rol No : 7\n",
            "Original : [('Mandira', '8'), ('Maya', '9'), ('Pandu', '4'), ('Radha', '5'), ('Rashi', '7')]\n",
            "According to Rol No : Ascending :[('Pandu', '4'), ('Radha', '5'), ('Rashi', '7'), ('Mandira', '8'), ('Maya', '9')]\n"
          ],
          "name": "stdout"
        }
      ]
    },
    {
      "cell_type": "markdown",
      "metadata": {
        "id": "1xPJCAWEEiJk",
        "colab_type": "text"
      },
      "source": [
        " # 4.Write python program to get a list of tuples of Rollno,Name for 5 students through keyboard and sort them by Rollno wise descending order"
      ]
    },
    {
      "cell_type": "code",
      "metadata": {
        "id": "lX8LNKKGEmyO",
        "colab_type": "code",
        "colab": {
          "base_uri": "https://localhost:8080/",
          "height": 225
        },
        "outputId": "3df019e7-536b-4445-b1bc-28ddcfb51965"
      },
      "source": [
        " \n",
        "l = []\n",
        " \n",
        "def inp():\n",
        "  name = input('Name : ')\n",
        "  rolno = input(' Rol No : ')\n",
        "  return (name,rolno)  # returns tuples\n",
        " \n",
        "n = int(input('Number of Students : '))\n",
        "for x in range(n):\n",
        "  l.append(inp())\n",
        " \n",
        "print(f'Original : {l}')\n",
        " \n",
        "l.sort(key = lambda x:x[1])\n",
        "print(f'According to Rol No : Descending :{l[::-1]}')"
      ],
      "execution_count": null,
      "outputs": [
        {
          "output_type": "stream",
          "text": [
            "Number of Students : 5\n",
            "Name : Mandira\n",
            " Rol No : 7\n",
            "Name : Maya\n",
            " Rol No : 8\n",
            "Name : Pandu\n",
            " Rol No : 3\n",
            "Name : Radha\n",
            " Rol No : 1\n",
            "Name : Rashi\n",
            " Rol No : 5\n",
            "Original : [('Mandira', '7'), ('Maya', '8'), ('Pandu', '3'), ('Radha', '1'), ('Rashi', '5')]\n",
            "According to Rol No : Descending :[('Maya', '8'), ('Mandira', '7'), ('Rashi', '5'), ('Pandu', '3'), ('Radha', '1')]\n"
          ],
          "name": "stdout"
        }
      ]
    },
    {
      "cell_type": "markdown",
      "metadata": {
        "id": "hz8f_lA7EnGO",
        "colab_type": "text"
      },
      "source": [
        " # 5.Write python program to get a list of tuples of Rollno,Name for 5 students through keyboard and sort them by Name wise ascending order"
      ]
    },
    {
      "cell_type": "code",
      "metadata": {
        "id": "TgH-dTgtEr1A",
        "colab_type": "code",
        "colab": {
          "base_uri": "https://localhost:8080/",
          "height": 225
        },
        "outputId": "6a08d56d-4944-4f00-ead0-f4ab0c9f6927"
      },
      "source": [
        " \n",
        "l = []\n",
        " \n",
        "def inp():\n",
        "  name = input('Name : ')\n",
        "  rolno = input(' Rol No : ')\n",
        "  return (name,rolno)  # returns tuples\n",
        " \n",
        "n = int(input('Number of Students : '))\n",
        "for x in range(n):\n",
        "  l.append(inp())\n",
        " \n",
        "print(f'Original : {l}')\n",
        " \n",
        "l.sort(key = lambda x:x[0])\n",
        "print(f'According to Name : Ascending :{l}')"
      ],
      "execution_count": null,
      "outputs": [
        {
          "output_type": "stream",
          "text": [
            "Number of Students : 5\n",
            "Name : Mandira\n",
            " Rol No : 78\n",
            "Name : Maya\n",
            " Rol No : 98\n",
            "Name : Radhaa\n",
            " Rol No : 54\n",
            "Name : Rashi\n",
            " Rol No : 35\n",
            "Name : Churashma\n",
            " Rol No : 68\n",
            "Original : [('Mandira', '78'), ('Maya', '98'), ('Radhaa', '54'), ('Rashi', '35'), ('Churashma', '68')]\n",
            "According to Name : Ascending :[('Churashma', '68'), ('Mandira', '78'), ('Maya', '98'), ('Radhaa', '54'), ('Rashi', '35')]\n"
          ],
          "name": "stdout"
        }
      ]
    },
    {
      "cell_type": "markdown",
      "metadata": {
        "id": "l3lp_5xxEsIe",
        "colab_type": "text"
      },
      "source": [
        "# 6.Write python program to get a list of tuples of Rollno,Name for 5 students through keyboard and sort them by Name wise descending order"
      ]
    },
    {
      "cell_type": "code",
      "metadata": {
        "id": "u_pbgWStExYN",
        "colab_type": "code",
        "colab": {
          "base_uri": "https://localhost:8080/",
          "height": 225
        },
        "outputId": "fdd1a06c-c446-402b-cab6-a86675a49cf3"
      },
      "source": [
        " \n",
        "l = []\n",
        " \n",
        "def inp():\n",
        "  name = input('Name : ')\n",
        "  rolno = input(' Rol No : ')\n",
        "  return (name,rolno)  # returns tuples\n",
        " \n",
        "n = int(input('Number of Students : '))\n",
        "for x in range(n):\n",
        "  l.append(inp())\n",
        " \n",
        "print(f'Original : {l}')\n",
        " \n",
        " \n",
        "l.sort(key = lambda x:x[0])\n",
        "print(f'According to Name : Descending :{l[::-1]}')"
      ],
      "execution_count": null,
      "outputs": [
        {
          "output_type": "stream",
          "text": [
            "Number of Students : 5\n",
            "Name : Radha\n",
            " Rol No : 6\n",
            "Name : Churashma\n",
            " Rol No : 7\n",
            "Name : Deviprasad\n",
            " Rol No : 8\n",
            "Name : Ambika\n",
            " Rol No : 4\n",
            "Name : Chandana\n",
            " Rol No : 2\n",
            "Original : [('Radha', '6'), ('Churashma', '7'), ('Deviprasad', '8'), ('Ambika', '4'), ('Chandana', '2')]\n",
            "According to Name : Descending :[('Radha', '6'), ('Deviprasad', '8'), ('Churashma', '7'), ('Chandana', '2'), ('Ambika', '4')]\n"
          ],
          "name": "stdout"
        }
      ]
    }
  ]
}