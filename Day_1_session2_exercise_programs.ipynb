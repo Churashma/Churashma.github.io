{
  "nbformat": 4,
  "nbformat_minor": 0,
  "metadata": {
    "colab": {
      "name": "Day 1-session2-exercise programs",
      "provenance": [],
      "collapsed_sections": [],
      "authorship_tag": "ABX9TyMwwGOnKduAUYx4CXoV+m2A",
      "include_colab_link": true
    },
    "kernelspec": {
      "name": "python3",
      "display_name": "Python 3"
    }
  },
  "cells": [
    {
      "cell_type": "markdown",
      "metadata": {
        "id": "view-in-github",
        "colab_type": "text"
      },
      "source": [
        "<a href=\"https://colab.research.google.com/github/Churashma/Churashma.github.io/blob/master/Day_1_session2_exercise_programs.ipynb\" target=\"_parent\"><img src=\"https://colab.research.google.com/assets/colab-badge.svg\" alt=\"Open In Colab\"/></a>"
      ]
    },
    {
      "cell_type": "markdown",
      "metadata": {
        "id": "yPlWwv5XvflV",
        "colab_type": "text"
      },
      "source": [
        " \n",
        " #Find the length of a string without using len functions"
      ]
    },
    {
      "cell_type": "code",
      "metadata": {
        "id": "CY46rUvcvlbh",
        "colab_type": "code",
        "colab": {
          "base_uri": "https://localhost:8080/",
          "height": 46
        },
        "outputId": "fcf33138-88c1-4478-f55c-cf1550d775bf"
      },
      "source": [
        " \n",
        "str = input(\"Enter a string: \")\n",
        " \n",
        "# counter variable to count the character in a string\n",
        "counter = 0\n",
        "for s in str:\n",
        "      counter = counter+1\n",
        "print(\"Length of the input string is:\", counter)"
      ],
      "execution_count": null,
      "outputs": [
        {
          "output_type": "stream",
          "text": [
            "Enter a string: Counter\n",
            "Length of the input string is: 7\n"
          ],
          "name": "stdout"
        }
      ]
    },
    {
      "cell_type": "markdown",
      "metadata": {
        "id": "kGbUrMRO0L3w",
        "colab_type": "text"
      },
      "source": [
        " #Find the no of occurances of word in a string"
      ]
    },
    {
      "cell_type": "code",
      "metadata": {
        "id": "Wpeml3bl1Kfa",
        "colab_type": "code",
        "colab": {
          "base_uri": "https://localhost:8080/",
          "height": 31
        },
        "outputId": "12842ac9-e115-4dc5-8a15-a16201ba312d"
      },
      "source": [
        " \n",
        "# define string\n",
        "string = \"Python is awesome, isn't it?\"\n",
        "substring = \"is\"\n",
        " \n",
        "count = string.count(substring)\n",
        " \n",
        "# print count\n",
        "print(\"The count is:\", count)"
      ],
      "execution_count": null,
      "outputs": [
        {
          "output_type": "stream",
          "text": [
            "The count is: 2\n"
          ],
          "name": "stdout"
        }
      ]
    },
    {
      "cell_type": "markdown",
      "metadata": {
        "id": "lkKXekKoGj7a",
        "colab_type": "text"
      },
      "source": [
        "  #Find the no of words and characters in a string"
      ]
    },
    {
      "cell_type": "code",
      "metadata": {
        "id": "PTGKtEFYGvSw",
        "colab_type": "code",
        "colab": {
          "base_uri": "https://localhost:8080/",
          "height": 60
        },
        "outputId": "3e0b619d-0f19-4cff-eaf5-8e5d7d011823"
      },
      "source": [
        " \n",
        "#1\n",
        "word_count = 0\n",
        "char_count = 0\n",
        " \n",
        "#2\n",
        "usr_input = input(\"Enter a string : \")\n",
        " \n",
        "#3\n",
        "split_string = usr_input.split()\n",
        " \n",
        "#4\n",
        "word_count = len(split_string)\n",
        " \n",
        "#5\n",
        "for word in split_string:\n",
        "    #6\n",
        "    char_count += len(word)\n",
        " \n",
        "#7\n",
        "print(\"Total words : {}\".format(word_count))\n",
        "print(\"Total characters : {}\".format(char_count))"
      ],
      "execution_count": null,
      "outputs": [
        {
          "output_type": "stream",
          "text": [
            "Enter a string : Churashma\n",
            "Total words : 1\n",
            "Total characters : 9\n"
          ],
          "name": "stdout"
        }
      ]
    },
    {
      "cell_type": "markdown",
      "metadata": {
        "id": "wOIXIaaCHMa7",
        "colab_type": "text"
      },
      "source": [
        "  #Write a program to print the triangle \n",
        "i/p  4\n",
        " \n",
        "#1\n",
        "#2    3\n",
        "#3    4   5\n",
        "#4    5   6   7"
      ]
    },
    {
      "cell_type": "code",
      "metadata": {
        "id": "ro4DG1MDHcFV",
        "colab_type": "code",
        "colab": {}
      },
      "source": [
        ""
      ],
      "execution_count": null,
      "outputs": []
    },
    {
      "cell_type": "markdown",
      "metadata": {
        "id": "E7n3GF7KIg5i",
        "colab_type": "text"
      },
      "source": [
        "  #Enter number 4\n",
        " \n",
        "#*\n",
        "#* *\n",
        "#* * *\n",
        "#* * * *"
      ]
    },
    {
      "cell_type": "code",
      "metadata": {
        "id": "t3AMaGzdIsNi",
        "colab_type": "code",
        "colab": {
          "base_uri": "https://localhost:8080/",
          "height": 89
        },
        "outputId": "f695277f-9324-4a24-d024-bd9cfcb34f0c"
      },
      "source": [
        "rows=int(input (\" enter number\"))\n",
        "for j in range(1,rows+1):\n",
        " print(\"* \" * j)"
      ],
      "execution_count": null,
      "outputs": [
        {
          "output_type": "stream",
          "text": [
            " enter number4\n",
            "* \n",
            "* * \n",
            "* * * \n",
            "* * * * \n"
          ],
          "name": "stdout"
        }
      ]
    },
    {
      "cell_type": "markdown",
      "metadata": {
        "id": "E0cpc2oYIvEK",
        "colab_type": "text"
      },
      "source": [
        " #Enter number 5\n",
        " \n",
        "#5\n",
        "#4 5\n",
        "#3 4 5\n",
        "#2 3 4 5\n",
        "#1 2 3 4 5"
      ]
    },
    {
      "cell_type": "code",
      "metadata": {
        "id": "pC0mpJXZI-Jb",
        "colab_type": "code",
        "colab": {}
      },
      "source": [
        ""
      ],
      "execution_count": null,
      "outputs": []
    },
    {
      "cell_type": "markdown",
      "metadata": {
        "id": "mSctxsBqI-1A",
        "colab_type": "text"
      },
      "source": [
        "  #Enter number 5\n",
        " \n",
        "#5 4 3 2 1\n",
        "#4 3 2 1\n",
        "#3 2 1\n",
        "#2 1\n",
        "#1"
      ]
    },
    {
      "cell_type": "code",
      "metadata": {
        "id": "U-gQY6eVJIGM",
        "colab_type": "code",
        "colab": {
          "base_uri": "https://localhost:8080/",
          "height": 104
        },
        "outputId": "ee569f4b-1d52-41c9-fb57-4718fbbf13ff"
      },
      "source": [
        " \n",
        "rows = 5\n",
        "for i in range(0, rows + 1):\n",
        "    for j in range(rows - i, 0, -1):\n",
        "        print(j, end=' ')\n",
        "    print()"
      ],
      "execution_count": null,
      "outputs": [
        {
          "output_type": "stream",
          "text": [
            "5 4 3 2 1 \n",
            "4 3 2 1 \n",
            "3 2 1 \n",
            "2 1 \n",
            "1 \n",
            "\n"
          ],
          "name": "stdout"
        }
      ]
    },
    {
      "cell_type": "markdown",
      "metadata": {
        "id": "ca-TyvgSJIlr",
        "colab_type": "text"
      },
      "source": [
        "  #Enter number 4\n",
        " \n",
        "#1 2 3 4\n",
        "#2 3 4\n",
        "#3 4\n",
        "#4\n",
        "#3 4\n",
        "#2 3 4\n",
        "#1 2 3 4"
      ]
    },
    {
      "cell_type": "code",
      "metadata": {
        "id": "AlXnxopaJSqr",
        "colab_type": "code",
        "colab": {}
      },
      "source": [
        ""
      ],
      "execution_count": null,
      "outputs": []
    }
  ]
}