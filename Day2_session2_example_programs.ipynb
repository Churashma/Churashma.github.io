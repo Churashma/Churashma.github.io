{
  "nbformat": 4,
  "nbformat_minor": 0,
  "metadata": {
    "colab": {
      "name": "Day2-session2-example programs",
      "provenance": [],
      "collapsed_sections": [],
      "authorship_tag": "ABX9TyMeNAxvJvG3ru7kMPyVe+82",
      "include_colab_link": true
    },
    "kernelspec": {
      "name": "python3",
      "display_name": "Python 3"
    }
  },
  "cells": [
    {
      "cell_type": "markdown",
      "metadata": {
        "id": "view-in-github",
        "colab_type": "text"
      },
      "source": [
        "<a href=\"https://colab.research.google.com/github/Churashma/python-workshop/blob/master/Day2_session2_example_programs.ipynb\" target=\"_parent\"><img src=\"https://colab.research.google.com/assets/colab-badge.svg\" alt=\"Open In Colab\"/></a>"
      ]
    },
    {
      "cell_type": "markdown",
      "metadata": {
        "id": "dHt8ohGsbcLT",
        "colab_type": "text"
      },
      "source": [
        " # Dictionary"
      ]
    },
    {
      "cell_type": "markdown",
      "metadata": {
        "id": "CaaMJP3ObevA",
        "colab_type": "text"
      },
      "source": [
        " \n",
        "# dict.clear()\n",
        "# Removes all elements of dictionary dict"
      ]
    },
    {
      "cell_type": "code",
      "metadata": {
        "id": "fzKff8S2bmZd",
        "colab_type": "code",
        "colab": {
          "base_uri": "https://localhost:8080/",
          "height": 46
        },
        "outputId": "5b9a16ef-8c63-4e07-823d-418cfb7767d1"
      },
      "source": [
        " \n",
        "dict = {'Name': 'Zara', 'Age': 7};\n",
        "print(\"Start Len : %d\" %  len(dict))\n",
        "dict.clear()\n",
        "print(\"End Len : %d\" %  len(dict))"
      ],
      "execution_count": null,
      "outputs": [
        {
          "output_type": "stream",
          "text": [
            "Start Len : 2\n",
            "End Len : 0\n"
          ],
          "name": "stdout"
        }
      ]
    },
    {
      "cell_type": "markdown",
      "metadata": {
        "id": "Vv-kIq0jbwpS",
        "colab_type": "text"
      },
      "source": [
        " # dict.items()\n",
        "# Returns a list of dict's (key, value) tuple pairs"
      ]
    },
    {
      "cell_type": "code",
      "metadata": {
        "id": "TBYNLbNtb3Z5",
        "colab_type": "code",
        "colab": {
          "base_uri": "https://localhost:8080/",
          "height": 51
        },
        "outputId": "8483968c-bb71-44b7-e1c2-fc535ad783b8"
      },
      "source": [
        " \n",
        "dict = {'Name': 'Zara', 'Age': 7}\n",
        "print (\"Value : %s\" %  dict.items())"
      ],
      "execution_count": null,
      "outputs": [
        {
          "output_type": "stream",
          "text": [
            "Value : dict_items([('Name', 'Zara'), ('Age', 7)])\n"
          ],
          "name": "stdout"
        }
      ]
    },
    {
      "cell_type": "markdown",
      "metadata": {
        "id": "2_KbkWGCb8kN",
        "colab_type": "text"
      },
      "source": [
        " # dict.copy()\n",
        "# Returns a copy of dictionary dict"
      ]
    },
    {
      "cell_type": "code",
      "metadata": {
        "id": "c32uqPRjcCPa",
        "colab_type": "code",
        "colab": {
          "base_uri": "https://localhost:8080/",
          "height": 51
        },
        "outputId": "ba0df591-1e1c-419c-d348-c0739c095e0e"
      },
      "source": [
        " \n",
        "dict1 = {'Name': 'Zara', 'Age': 7};\n",
        "dict2 = dict1.copy()\n",
        "print (\"New Dictinary : %s\" %  str(dict2))"
      ],
      "execution_count": null,
      "outputs": [
        {
          "output_type": "stream",
          "text": [
            "New Dictinary : {'Name': 'Zara', 'Age': 7}\n"
          ],
          "name": "stdout"
        }
      ]
    },
    {
      "cell_type": "markdown",
      "metadata": {
        "id": "wSHEicqqcJvG",
        "colab_type": "text"
      },
      "source": [
        "# Python Program to Generate a Dictionary that Contains Numbers (between 1 and n) in the Form (x,x*x)."
      ]
    },
    {
      "cell_type": "code",
      "metadata": {
        "id": "O927eaXWcTUo",
        "colab_type": "code",
        "colab": {
          "base_uri": "https://localhost:8080/",
          "height": 46
        },
        "outputId": "ccc87f89-5648-449e-8958-9a92d5f86f18"
      },
      "source": [
        " \n",
        "n=int(input(\"Enter a number:\"))\n",
        "d={x:x*x for x in range(1,n+1)}\n",
        "print(d)"
      ],
      "execution_count": null,
      "outputs": [
        {
          "output_type": "stream",
          "text": [
            "Enter a number:3\n",
            "{1: 1, 2: 4, 3: 9}\n"
          ],
          "name": "stdout"
        }
      ]
    },
    {
      "cell_type": "markdown",
      "metadata": {
        "id": "Qb_KrqDxcdGl",
        "colab_type": "text"
      },
      "source": [
        " # Python Program to Sum All the Items in a Dictionary"
      ]
    },
    {
      "cell_type": "code",
      "metadata": {
        "id": "LGbjo2ZGciDo",
        "colab_type": "code",
        "colab": {
          "base_uri": "https://localhost:8080/",
          "height": 66
        },
        "outputId": "d2fe8002-190e-4ded-8ede-94726afd5185"
      },
      "source": [
        " \n",
        "d={'A':100,'B':540,'C':239}\n",
        "print(\"Total sum of values in the dictionary:\")\n",
        "print(sum(d.values()))"
      ],
      "execution_count": null,
      "outputs": [
        {
          "output_type": "stream",
          "text": [
            "Total sum of values in the dictionary:\n",
            "879\n"
          ],
          "name": "stdout"
        }
      ]
    },
    {
      "cell_type": "markdown",
      "metadata": {
        "id": "4YWqZqofcmdh",
        "colab_type": "text"
      },
      "source": [
        "  # Python Program to Remove the Given Key from a Dictionary"
      ]
    },
    {
      "cell_type": "code",
      "metadata": {
        "id": "YUKf4VFQcsjA",
        "colab_type": "code",
        "colab": {
          "base_uri": "https://localhost:8080/",
          "height": 104
        },
        "outputId": "3dde646c-70e0-4764-cae6-aec3aecd7557"
      },
      "source": [
        " \n",
        "d = {'a':1,'b':2,'c':3,'d':4}\n",
        "print(\"Initial dictionary\")\n",
        "print(d)\n",
        "key=input(\"Enter the key to delete(a-d):\")\n",
        "if key in d: \n",
        "    del d[key]\n",
        "else:\n",
        "    print(\"Key not found!\")\n",
        "    exit(0)\n",
        "print(\"Updated dictionary\")\n",
        "print(d)"
      ],
      "execution_count": null,
      "outputs": [
        {
          "output_type": "stream",
          "text": [
            "Initial dictionary\n",
            "{'a': 1, 'b': 2, 'c': 3, 'd': 4}\n",
            "Enter the key to delete(a-d):1-4\n",
            "Key not found!\n",
            "Updated dictionary\n",
            "{'a': 1, 'b': 2, 'c': 3, 'd': 4}\n"
          ],
          "name": "stdout"
        }
      ]
    },
    {
      "cell_type": "markdown",
      "metadata": {
        "id": "REcBhaU5dNHp",
        "colab_type": "text"
      },
      "source": [
        " # Python Program to add name and mark as key->value pair in  a Dictionary and print it."
      ]
    },
    {
      "cell_type": "code",
      "metadata": {
        "id": "MpgAm6yqdT5I",
        "colab_type": "code",
        "colab": {
          "base_uri": "https://localhost:8080/",
          "height": 118
        },
        "outputId": "48fcf199-ea37-4ec7-89df-954dfe204bd5"
      },
      "source": [
        " \n",
        "n=int(input(\"Enter no of records\"))\n",
        "d={}\n",
        "for i in range(1,n+1):\n",
        "    name= input(\"Enter name %d\"%(i))\n",
        "    mark=int(input(\"Enter mark %d\"%(i)))\n",
        "    d[name]=mark\n",
        "    print (d)"
      ],
      "execution_count": null,
      "outputs": [
        {
          "output_type": "stream",
          "text": [
            "Enter no of records2\n",
            "Enter name 1Radha\n",
            "Enter mark 120\n",
            "{'Radha': 20}\n",
            "Enter name 2Rashi\n",
            "Enter mark 250\n",
            "{'Radha': 20, 'Rashi': 50}\n"
          ],
          "name": "stdout"
        }
      ]
    },
    {
      "cell_type": "markdown",
      "metadata": {
        "id": "Lwk0Gd44dptt",
        "colab_type": "text"
      },
      "source": [
        " # Keys and Values example"
      ]
    },
    {
      "cell_type": "code",
      "metadata": {
        "id": "ARU0zGNPiNGW",
        "colab_type": "code",
        "colab": {
          "base_uri": "https://localhost:8080/",
          "height": 443
        },
        "outputId": "2dbc3038-51a5-4e6e-992c-b543d9d59084"
      },
      "source": [
        " \n",
        "d={}\n",
        "print (\" The dictionary elements are\")\n",
        " for i in range(1,21):\n",
        "     d[i]=i**2\n",
        "print (d)\n",
        " # To print key and values\n",
        "print (\" Key==> Value are\")\n",
        " for (k,v) in d.items():    \n",
        "      print(k,\"==>\",v)\n",
        " # To print key only\n",
        "print (\"\\nTo print key only\")\n",
        "for k in d.keys():    \n",
        "      print(k, end=\" \")\n",
        "#To print value only\n",
        "print (\"\\nTo print values only\")\n",
        "for v in d.values():  \n",
        "      print(v, end=\" \")"
      ],
      "execution_count": null,
      "outputs": [
        {
          "output_type": "stream",
          "text": [
            " The dictionary elements are\n",
            "{1: 1, 2: 4, 3: 9, 4: 16, 5: 25, 6: 36, 7: 49, 8: 64, 9: 81, 10: 100, 11: 121, 12: 144, 13: 169, 14: 196, 15: 225, 16: 256, 17: 289, 18: 324, 19: 361, 20: 400}\n",
            " Key==> Value are\n",
            "1 ==> 1\n",
            "2 ==> 4\n",
            "3 ==> 9\n",
            "4 ==> 16\n",
            "5 ==> 25\n",
            "6 ==> 36\n",
            "7 ==> 49\n",
            "8 ==> 64\n",
            "9 ==> 81\n",
            "10 ==> 100\n",
            "11 ==> 121\n",
            "12 ==> 144\n",
            "13 ==> 169\n",
            "14 ==> 196\n",
            "15 ==> 225\n",
            "16 ==> 256\n",
            "17 ==> 289\n",
            "18 ==> 324\n",
            "19 ==> 361\n",
            "20 ==> 400\n",
            "\n",
            "To print key only\n",
            "1 2 3 4 5 6 7 8 9 10 11 12 13 14 15 16 17 18 19 20 \n",
            "To print values only\n",
            "1 4 9 16 25 36 49 64 81 100 121 144 169 196 225 256 289 324 361 400 "
          ],
          "name": "stdout"
        }
      ]
    },
    {
      "cell_type": "markdown",
      "metadata": {
        "id": "66Af_3CiizGl",
        "colab_type": "text"
      },
      "source": [
        "# Python program to convert 2 digit number  into words"
      ]
    },
    {
      "cell_type": "code",
      "metadata": {
        "id": "RIRpTqEgi8Zy",
        "colab_type": "code",
        "colab": {
          "base_uri": "https://localhost:8080/",
          "height": 46
        },
        "outputId": "99f9c1ab-9430-4eb2-dd1a-7e1bbd528d60"
      },
      "source": [
        " \n",
        "d={0:'',1:'one',2:'two',3:'three',4:'four',5:'five',6:'six',7:'seven',8:'eight',9:'nine',\\\n",
        "   10:'ten',11:'eleven',12:'twelve',13:'thirteen',14:'fourteen',15:'fifteen',16:'sixteen',\\\n",
        "   17:'seventeen',18:'eightteen',19:'nineteen',20:'twenty',30:'thirty',40:'fourty',50:'fifty',\\\n",
        "   60:'sixty',70:'seventy',80:'eighty',90:'ninty'}\n",
        " \n",
        "num=int(input(\"Enter the integer between 1 to 99:\"))\n",
        "if (num<=20):\n",
        "      print(d[num])\n",
        "if(num>20 and num<100):\n",
        "        if num%10==0:       \n",
        "            print(d[num])\n",
        "        else:\n",
        "            print(d[num//10*10]+\" \"+d[num%10])"
      ],
      "execution_count": null,
      "outputs": [
        {
          "output_type": "stream",
          "text": [
            "Enter the integer between 1 to 99:55\n",
            "fifty five\n"
          ],
          "name": "stdout"
        }
      ]
    },
    {
      "cell_type": "markdown",
      "metadata": {
        "id": "aI_Njmz5jH0P",
        "colab_type": "text"
      },
      "source": [
        " # How to sort a dictionary by values in Python"
      ]
    },
    {
      "cell_type": "code",
      "metadata": {
        "id": "cKna2qizjKTP",
        "colab_type": "code",
        "colab": {
          "base_uri": "https://localhost:8080/",
          "height": 66
        },
        "outputId": "83a3e6b4-e804-43f5-fff7-35d50c3f0b02"
      },
      "source": [
        " \n",
        " \n",
        "d = {\"Pierre\": 42, \"Anne\": 33, \"Zoe\": 24}\n",
        "#Use the sorted function and operator module\n",
        "import operator\n",
        "sorted_d = sorted(d.items(), key=operator.itemgetter(1))\n",
        "print(sorted_d)\n",
        "sorted_a= sorted(d.items(), key=operator.itemgetter(1),reverse=True)\n",
        "print(sorted_a)"
      ],
      "execution_count": null,
      "outputs": [
        {
          "output_type": "stream",
          "text": [
            "[('Zoe', 24), ('Anne', 33), ('Pierre', 42)]\n",
            "[('Pierre', 42), ('Anne', 33), ('Zoe', 24)]\n"
          ],
          "name": "stdout"
        }
      ]
    },
    {
      "cell_type": "markdown",
      "metadata": {
        "id": "XCADkpANjPgG",
        "colab_type": "text"
      },
      "source": [
        " # Files"
      ]
    },
    {
      "cell_type": "markdown",
      "metadata": {
        "id": "KpLWaT9njUJz",
        "colab_type": "text"
      },
      "source": [
        " # Python Program to count the number of lines in a text file."
      ]
    },
    {
      "cell_type": "code",
      "metadata": {
        "id": "suZsinM1jY2l",
        "colab_type": "code",
        "colab": {}
      },
      "source": [
        " \n",
        "from google.colab import drive\n",
        "drive.mount('/content/drive')\n",
        "#Python Program to count the number of lines in a text file. \n",
        "file ='/content/sample_data/file.txt'\n",
        "num_lines = 0\n",
        "with open(file,'r') as f:\n",
        "     for line in f:\n",
        "         num_lines +=1\n",
        "print(\"Number of lines:\")\n",
        "print(num_lines)"
      ],
      "execution_count": null,
      "outputs": []
    },
    {
      "cell_type": "markdown",
      "metadata": {
        "id": "MLTPQXrUqheI",
        "colab_type": "text"
      },
      "source": [
        "  # Python Program to count the number of words in a text file."
      ]
    },
    {
      "cell_type": "code",
      "metadata": {
        "id": "u2MMLHXtqnn7",
        "colab_type": "code",
        "colab": {
          "base_uri": "https://localhost:8080/",
          "height": 67
        },
        "outputId": "689bd792-5b43-475f-d8e9-8d2d66ad717f"
      },
      "source": [
        " \n",
        " #Python Program to count the number of lines in a text file. \n",
        "file ='/content/sample_data/file.txt'\n",
        "num_words = 0\n",
        "with open(file,'r') as f:\n",
        "    for line in f:\n",
        "        words = line.split()\n",
        "print(words)\n",
        "num_words += len(words)\n",
        "print(\"Number of words:\")\n",
        "print(num_words)"
      ],
      "execution_count": null,
      "outputs": [
        {
          "output_type": "stream",
          "text": [
            "['I', 'am', 'in', 'second', 'year']\n",
            "Number of words:\n",
            "5\n"
          ],
          "name": "stdout"
        }
      ]
    },
    {
      "cell_type": "markdown",
      "metadata": {
        "id": "o4bAeNpNq0sD",
        "colab_type": "text"
      },
      "source": [
        " # Python Program to count the occurrences of a word in a text file."
      ]
    },
    {
      "cell_type": "code",
      "metadata": {
        "id": "dt-3Qyudq6hz",
        "colab_type": "code",
        "colab": {
          "base_uri": "https://localhost:8080/",
          "height": 67
        },
        "outputId": "18559604-7922-4011-9fee-ca98cd4f3297"
      },
      "source": [
        " \n",
        "fname = '/content/sample_data/file.txt'\n",
        "word=input(\"Enter word to be searched:\")\n",
        "k = 0\n",
        " \n",
        "with open(fname, 'r') as f:\n",
        "    for line in f:\n",
        "        words = line.split()\n",
        "    for i in words:\n",
        "        if(i==word):\n",
        "                    k=k+1\n",
        "print(\"Occurrences of the word:\")\n",
        "print(k)"
      ],
      "execution_count": null,
      "outputs": [
        {
          "output_type": "stream",
          "text": [
            "Enter word to be searched:am\n",
            "Occurrences of the word:\n",
            "1\n"
          ],
          "name": "stdout"
        }
      ]
    },
    {
      "cell_type": "markdown",
      "metadata": {
        "id": "xGGW6YGBrBtW",
        "colab_type": "text"
      },
      "source": [
        " # Python Program to copy the contents of one file into another."
      ]
    },
    {
      "cell_type": "code",
      "metadata": {
        "id": "yzJtxrftrGa7",
        "colab_type": "code",
        "colab": {}
      },
      "source": [
        " \n",
        "file1 = '/content/sample_data/file.txt'\n",
        "file2 ='/content/sample_data/file1.txt' \n",
        " \n",
        "with open(file1,'r') as f:\n",
        "     with open(file2,'w') as f1:\n",
        "          for line in f:\n",
        "              f1.write(line)"
      ],
      "execution_count": null,
      "outputs": []
    },
    {
      "cell_type": "markdown",
      "metadata": {
        "id": "K_ovAfUdrTI2",
        "colab_type": "text"
      },
      "source": [
        " # Python Program to read the contents of the file in reverse order."
      ]
    },
    {
      "cell_type": "code",
      "metadata": {
        "id": "r5ebP0mDrZOv",
        "colab_type": "code",
        "colab": {
          "base_uri": "https://localhost:8080/",
          "height": 34
        },
        "outputId": "6862e1d8-8b54-47d3-d4ce-4a9ca6e04384"
      },
      "source": [
        " \n",
        "#Python Program to read the contents of the file in reverse order.\n",
        "file = '/content/sample_data/file.txt'\n",
        "with open (file,'r') as f:\n",
        "    for line in f:\n",
        "        l=line.split()\n",
        "l.reverse() \n",
        "st= \" \".join(l)\n",
        "print (st)"
      ],
      "execution_count": null,
      "outputs": [
        {
          "output_type": "stream",
          "text": [
            "year second in am I\n"
          ],
          "name": "stdout"
        }
      ]
    }
  ]
}